{
 "cells": [
  {
   "cell_type": "markdown",
   "id": "bef6a76a",
   "metadata": {},
   "source": [
    "# Section B"
   ]
  },
  {
   "cell_type": "code",
   "execution_count": 52,
   "id": "ea3bc272",
   "metadata": {},
   "outputs": [],
   "source": [
    "import torch as tt\n",
    "import torch.nn as nn\n",
    "import torch.optim as oo"
   ]
  },
  {
   "cell_type": "markdown",
   "id": "533bfc71",
   "metadata": {},
   "source": [
    "## [1] Loading data"
   ]
  },
  {
   "cell_type": "code",
   "execution_count": 53,
   "id": "70604aaf",
   "metadata": {},
   "outputs": [],
   "source": [
    "# Load Data from car train and car test\n",
    "# here we shall use Dataloader and Dataset from pytorch\n",
    "\n",
    "from torch.utils.data import Dataset, DataLoader\n",
    "import numpy as np \n",
    "\n",
    "# to define a custom Dataset, we have to inherit from pytorch Dataset class \n",
    "#   and define 3 main methods - __init__, __len__ and __getitem__\n",
    "\n",
    "class CarDataset(Dataset):\n",
    "\n",
    "    def __init__(self, csv): \n",
    "        # initialize a car-dataset by reading from a csv file\n",
    "        data = tt.tensor(np.loadtxt(\n",
    "            csv,                # dataset csv-file\n",
    "            delimiter=\",\",      # (C)omma (S)eperated (V)alues\n",
    "            skiprows=1,         # skip the header [carlength,carwidth,carheight,horsepower,peakrpm,price]\n",
    "            dtype=np.float32,   \n",
    "        )) \n",
    "        # this will produce an array of size (n x 6) where\n",
    "        #  each row (in n) is a sample, \n",
    "        #  each col is a feature, last col is target feature\n",
    "\n",
    "        # normalize this dataset, since features have wide range of values\n",
    "        dm, dv = tt.mean(data, dim=0), tt.var(data, dim=0)\n",
    "        self.data = (data-dm)/(dv**0.5)\n",
    "\n",
    "        self.X = self.data[:, 0:5] # first 5 five cols are input X \n",
    "        self.Y = self.data[:, 5: ]  # last col is label Y \n",
    "\n",
    "        self.L = len(self.data)\n",
    "\n",
    "    def __len__(self): return self.L # total samples in this dataset\n",
    "    \n",
    "    def __getitem__(self, index): \n",
    "        # should return a single sample as X,Y\n",
    "        return self.X[index, :], self.Y[index, :]\n"
   ]
  },
  {
   "cell_type": "code",
   "execution_count": 54,
   "id": "92399bab",
   "metadata": {},
   "outputs": [],
   "source": [
    "# initialize training dataset\n",
    "ds_train = CarDataset('car_train.csv')\n",
    "ds_test = CarDataset('car_test.csv')"
   ]
  },
  {
   "cell_type": "code",
   "execution_count": 55,
   "id": "75ed8b46",
   "metadata": {},
   "outputs": [
    {
     "name": "stdout",
     "output_type": "stream",
     "text": [
      "Trainset torch.Size([80, 5]) torch.Size([80, 1]) 80\n",
      "Testset torch.Size([20, 5]) torch.Size([20, 1]) 20\n"
     ]
    }
   ],
   "source": [
    "# check \n",
    "print('Trainset', ds_train.X.shape, ds_train.Y.shape, ds_train.L)\n",
    "print('Testset', ds_test.X.shape, ds_test.Y.shape, ds_test.L)"
   ]
  },
  {
   "cell_type": "code",
   "execution_count": 56,
   "id": "2e8d5c2d",
   "metadata": {},
   "outputs": [
    {
     "name": "stdout",
     "output_type": "stream",
     "text": [
      "tensor([ 0.9678,  1.5768, -1.2235,  1.8415, -0.8952]) torch.Size([5])\n",
      "tensor([1.5375]) torch.Size([1])\n"
     ]
    }
   ],
   "source": [
    "# we can read from dataset using indexing, this will call __getitem__ and return a (X, Y) pair\n",
    "x,y = ds_test[2]\n",
    "print(x, x.shape) \n",
    "print(y, y.shape)"
   ]
  },
  {
   "cell_type": "code",
   "execution_count": 57,
   "id": "fc9d0a57",
   "metadata": {},
   "outputs": [
    {
     "name": "stdout",
     "output_type": "stream",
     "text": [
      "batch #0\n",
      "x.shape=torch.Size([10, 5])\n",
      "x=tensor([[ 0.9163,  0.6758, -1.6392,  0.8525,  1.8175],\n",
      "        [ 0.9163,  0.6758, -1.6392, -0.1023, -0.8952],\n",
      "        [ 0.9678,  1.5768, -1.2235,  1.8415, -0.8952],\n",
      "        [ 0.9678,  1.5768, -1.2235,  1.8415, -0.8952],\n",
      "        [ 0.9678,  1.5768, -1.2235,  1.8415, -0.8952],\n",
      "        [ 0.7619,  0.6758, -0.4962, -0.1023, -0.8952],\n",
      "        [ 0.7619,  0.6758, -0.4962, -0.1023, -0.8952],\n",
      "        [ 0.7619,  0.6758, -0.4962,  0.8525,  1.8175],\n",
      "        [ 0.7619,  0.6758, -0.4962,  0.8525,  1.8175],\n",
      "        [-1.0656, -0.9260,  1.0105, -0.7502,  0.1899]]) \n",
      "y.shape=torch.Size([10, 1])\n",
      "y=tensor([[ 0.4734],\n",
      "        [-0.1084],\n",
      "        [ 1.5375],\n",
      "        [ 2.4302],\n",
      "        [ 2.2788],\n",
      "        [-0.7102],\n",
      "        [-0.2319],\n",
      "        [ 0.2025],\n",
      "        [ 0.2025],\n",
      "        [-1.3040]])\n",
      "\n",
      "\n",
      "batch #1\n",
      "x.shape=torch.Size([10, 5])\n",
      "x=tensor([[-1.0656, -0.9260,  1.0105, -1.2277, -1.9803],\n",
      "        [-1.0656, -0.9260,  1.0105, -0.7502,  0.1899],\n",
      "        [-1.0656, -0.9260,  1.0105, -0.7502,  0.1899],\n",
      "        [ 0.1956, -0.9260,  0.4910, -0.7502,  0.1899],\n",
      "        [-1.0656, -0.9260,  1.0105, -0.7502,  0.1899],\n",
      "        [-0.9884, -0.9260,  0.3871, -0.7502,  0.1899],\n",
      "        [-1.0656, -0.9260,  1.0105, -0.7502,  0.1899],\n",
      "        [ 0.1956, -0.9260,  0.4910, -0.7502,  0.1899],\n",
      "        [-1.8121, -0.9260,  0.3871, -0.7502,  0.1899],\n",
      "        [ 1.0193,  0.4755,  1.1144,  0.2046,  0.1899]]) \n",
      "y.shape=torch.Size([10, 1])\n",
      "y=tensor([[-0.6663],\n",
      "        [-0.8457],\n",
      "        [-0.7660],\n",
      "        [-0.5667],\n",
      "        [-0.5866],\n",
      "        [-0.3874],\n",
      "        [-0.5069],\n",
      "        [-0.3077],\n",
      "        [-0.2080],\n",
      "        [ 0.0709]])\n",
      "\n",
      "\n"
     ]
    }
   ],
   "source": [
    "# to actually read from dataset during training we shall use dataloader\n",
    "# this allows us to define batch-size, shuffle, transforms etc on the dataset\n",
    "\n",
    "# create a dataloader and specify batch size\n",
    "dl = DataLoader(ds_test, batch_size=10, shuffle=False)\n",
    "\n",
    "# enumerate through the dataloader\n",
    "for i,(x,y) in enumerate(dl): print(f'batch #{i}\\n{x.shape=}\\n{x=} \\n{y.shape=}\\n{y=}\\n\\n')\n",
    "\n",
    "# since there are 20 test points, this will create 4 batches of batch-size=5\n"
   ]
  },
  {
   "cell_type": "markdown",
   "id": "eccb0c86",
   "metadata": {},
   "source": [
    "# [1] Linear Regression"
   ]
  },
  {
   "cell_type": "markdown",
   "id": "d04edf4a",
   "metadata": {},
   "source": [
    "### making the model"
   ]
  },
  {
   "cell_type": "code",
   "execution_count": 58,
   "id": "6f9d0323",
   "metadata": {},
   "outputs": [],
   "source": [
    "# the linear regression model is of the form:\n",
    "# y = w1*x1 + w2*x2 + ... + wn*xn + b\n",
    "# which can be expressed as a dot product of the weight-vector (w) and the input vector (x) plus the bias (b)\n",
    "# i.e., y = W*X + b\n",
    "# since there are 5 input features (x) - carlength, carwidth, carheight, horsepower, peakrpm\n",
    "# we have n=5\n",
    "# we have to predict a single feature (y) - price\n",
    "# our linear model would be as follows:\n",
    "\n",
    "class LinearModel(nn.Module):\n",
    "    # Note: we dont use any activation here\n",
    "    def __init__(self):\n",
    "        super().__init__()\n",
    "        self.W = nn.Parameter(tt.rand(size=(5,1)))   \n",
    "        self.b = nn.Parameter(tt.rand(size=(1,1)))       \n",
    "\n",
    "    def forward(self, X): #<--- input X is supposed to be a 5-dimensional vector\n",
    "        return X@self.W + self.b \n",
    "    \n",
    "    "
   ]
  },
  {
   "cell_type": "code",
   "execution_count": 59,
   "id": "3c95035a",
   "metadata": {},
   "outputs": [
    {
     "name": "stdout",
     "output_type": "stream",
     "text": [
      "OrderedDict({'W': tensor([[0.6770],\n",
      "        [0.1900],\n",
      "        [0.8995],\n",
      "        [0.2416],\n",
      "        [0.5263]]), 'b': tensor([[0.5005]])})\n"
     ]
    }
   ],
   "source": [
    "model = LinearModel()\n",
    "print(model.state_dict())"
   ]
  },
  {
   "cell_type": "code",
   "execution_count": 60,
   "id": "892b370b",
   "metadata": {},
   "outputs": [],
   "source": [
    "# for regression we use MSELoss\n",
    "lossfn = nn.MSELoss()\n",
    "\n",
    "# Stohcastic Gradient Descent (SGD)\n",
    "optim = oo.SGD( \n",
    "    model.parameters(), #<--- pass the parameters of the model to be trained\n",
    "    lr=0.01            #<--- set the learning rate\n",
    "    )"
   ]
  },
  {
   "cell_type": "code",
   "execution_count": 61,
   "id": "51f3700f",
   "metadata": {},
   "outputs": [
    {
     "name": "stdout",
     "output_type": "stream",
     "text": [
      "epoch 20 of 1000: training_loss=0.14643707405775785, val_loss=0.32157227396965027\n",
      "epoch 40 of 1000: training_loss=0.12980124168097973, val_loss=0.2728136479854584\n",
      "epoch 60 of 1000: training_loss=0.12774764513596892, val_loss=0.25572669506073\n",
      "epoch 80 of 1000: training_loss=0.12692164815962315, val_loss=0.24568824470043182\n",
      "epoch 100 of 1000: training_loss=0.1262833084911108, val_loss=0.2387409210205078\n",
      "epoch 120 of 1000: training_loss=0.12567025143653154, val_loss=0.23358972370624542\n",
      "epoch 140 of 1000: training_loss=0.12586447596549988, val_loss=0.22967907786369324\n",
      "epoch 160 of 1000: training_loss=0.12533847196027637, val_loss=0.22751298546791077\n",
      "epoch 180 of 1000: training_loss=0.12564605427905917, val_loss=0.2251049280166626\n",
      "epoch 200 of 1000: training_loss=0.12599052325822413, val_loss=0.22413650155067444\n",
      "epoch 220 of 1000: training_loss=0.12535540480166674, val_loss=0.22306063771247864\n",
      "epoch 240 of 1000: training_loss=0.12569979391992092, val_loss=0.22200675308704376\n",
      "epoch 260 of 1000: training_loss=0.125650551635772, val_loss=0.22139997780323029\n",
      "epoch 280 of 1000: training_loss=0.12554082414135337, val_loss=0.22117118537425995\n",
      "epoch 300 of 1000: training_loss=0.1268598842434585, val_loss=0.2205369919538498\n",
      "epoch 320 of 1000: training_loss=0.12668381724506617, val_loss=0.22024571895599365\n",
      "epoch 340 of 1000: training_loss=0.125558108324185, val_loss=0.2207450419664383\n",
      "epoch 360 of 1000: training_loss=0.1263819937594235, val_loss=0.22060935199260712\n",
      "epoch 380 of 1000: training_loss=0.12596820201724768, val_loss=0.22028782963752747\n",
      "epoch 400 of 1000: training_loss=0.12597465934231877, val_loss=0.21989312767982483\n",
      "epoch 420 of 1000: training_loss=0.12596985418349504, val_loss=0.2200096845626831\n",
      "epoch 440 of 1000: training_loss=0.1255970555357635, val_loss=0.21976235508918762\n",
      "epoch 460 of 1000: training_loss=0.12557572172954679, val_loss=0.2197120487689972\n",
      "epoch 480 of 1000: training_loss=0.12568962574005127, val_loss=0.21995575726032257\n",
      "epoch 500 of 1000: training_loss=0.12608048925176263, val_loss=0.22032789885997772\n",
      "epoch 520 of 1000: training_loss=0.12535983230918646, val_loss=0.22022147476673126\n",
      "epoch 540 of 1000: training_loss=0.12511223834007978, val_loss=0.22052602469921112\n",
      "epoch 560 of 1000: training_loss=0.12622674368321896, val_loss=0.2201944887638092\n",
      "epoch 580 of 1000: training_loss=0.12524783797562122, val_loss=0.2200135886669159\n",
      "epoch 600 of 1000: training_loss=0.12531679030507803, val_loss=0.21985025703907013\n",
      "epoch 620 of 1000: training_loss=0.12538640527054667, val_loss=0.22016720473766327\n",
      "epoch 640 of 1000: training_loss=0.12575840950012207, val_loss=0.21971562504768372\n",
      "epoch 660 of 1000: training_loss=0.12620321055874228, val_loss=0.2194989025592804\n",
      "epoch 680 of 1000: training_loss=0.12570837419480085, val_loss=0.22036400437355042\n",
      "epoch 700 of 1000: training_loss=0.1252585183829069, val_loss=0.21995656192302704\n",
      "epoch 720 of 1000: training_loss=0.12562372256070375, val_loss=0.2201358824968338\n",
      "epoch 740 of 1000: training_loss=0.125906178727746, val_loss=0.21991991996765137\n",
      "epoch 760 of 1000: training_loss=0.12612097710371017, val_loss=0.2201821357011795\n",
      "epoch 780 of 1000: training_loss=0.12531317817047238, val_loss=0.21992287039756775\n",
      "epoch 800 of 1000: training_loss=0.12529305648058653, val_loss=0.21977916359901428\n",
      "epoch 820 of 1000: training_loss=0.12503792718052864, val_loss=0.22008535265922546\n",
      "epoch 840 of 1000: training_loss=0.12519863713532686, val_loss=0.2200920581817627\n",
      "epoch 860 of 1000: training_loss=0.12598050571978092, val_loss=0.21952030062675476\n",
      "epoch 880 of 1000: training_loss=0.12559276726096869, val_loss=0.21976301074028015\n",
      "epoch 900 of 1000: training_loss=0.12506027333438396, val_loss=0.22023651003837585\n",
      "epoch 920 of 1000: training_loss=0.12582486122846603, val_loss=0.21994121372699738\n",
      "epoch 940 of 1000: training_loss=0.12608488788828254, val_loss=0.22027964890003204\n",
      "epoch 960 of 1000: training_loss=0.1252521313726902, val_loss=0.22023256123065948\n",
      "epoch 980 of 1000: training_loss=0.12591115664690733, val_loss=0.22021734714508057\n",
      "epoch 1000 of 1000: training_loss=0.12700209952890873, val_loss=0.2202470749616623\n"
     ]
    },
    {
     "data": {
      "image/png": "[encoded data removed]",
      "text/plain": [
       "<Figure size 640x480 with 1 Axes>"
      ]
     },
     "metadata": {},
     "output_type": "display_data"
    },
    {
     "name": "stdout",
     "output_type": "stream",
     "text": [
      "\n",
      "Training Loss = 0.12700209952890873\n",
      "Validation Loss = 0.2202470749616623\n",
      "\n"
     ]
    }
   ],
   "source": [
    "loss_history=[] # will plot it later to see it decreasing ... \n",
    "val_loss_history=[]\n",
    "# ready dataloader\n",
    "dl_train = DataLoader(ds_train, batch_size=10, shuffle=True)\n",
    "dl_test = DataLoader(ds_test, batch_size=len(ds_test), shuffle=False) # we will test the whole test dataset, so batch size is same as len\n",
    "\n",
    "# Training loop\n",
    "max_epoch = 1000\n",
    "for epoch in range(max_epoch):  # Number of epochs\n",
    "    # in each epoch train the whole dataset but divide by batch\n",
    "    batch_loss_history = []\n",
    "    #print(f'Starting epoch {epoch+1} of {max_epoch}')\n",
    "    for batch,(x,y) in enumerate(dl_train):\n",
    "        optim.zero_grad()# Clear gradients (can be done after optimizer.step too)\n",
    "        p = model(x)        # Forward pass\n",
    "        loss = lossfn(p, y)  # Compute loss\n",
    "        loss.backward()     # Backward pass\n",
    "        optim.step()        # Update weights\n",
    "\n",
    "        batch_loss_history.append(loss.item())\n",
    "        #print(f'\\t{batch=}, loss={batch_loss_history[-1]}')\n",
    "\n",
    "    loss_history.append(sum(batch_loss_history)/len(batch_loss_history)) #<--- record only average batch loss\n",
    "\n",
    "    # testing\n",
    "    with tt.no_grad():\n",
    "        for batch,(x,y) in enumerate(dl_test): # will be only one batch\n",
    "            p = model(x)        # Forward pass\n",
    "            loss = lossfn(p, y)  # Compute loss\n",
    "            val_loss_history.append(loss.item())\n",
    "\n",
    "    if (epoch+1) % 20 == 0:\n",
    "        print(f'epoch {epoch+1} of {max_epoch}: training_loss={loss_history[-1]}, val_loss={val_loss_history[-1]}')\n",
    "\n",
    "# finally plot the loss\n",
    "import matplotlib.pyplot as plt\n",
    "plt.plot(loss_history, label='training loss',)\n",
    "plt.plot(val_loss_history, label='validation loss', )\n",
    "plt.legend()\n",
    "plt.show()\n",
    "\n",
    "print(f\"\"\"\n",
    "Training Loss = {loss_history[-1]}\n",
    "Validation Loss = {val_loss_history[-1]}\n",
    "\"\"\")"
   ]
  },
  {
   "cell_type": "code",
   "execution_count": 62,
   "id": "8066e4eb",
   "metadata": {},
   "outputs": [
    {
     "data": {
      "image/png": "[encoded data removed]",
      "text/plain": [
       "<Figure size 640x480 with 1 Axes>"
      ]
     },
     "metadata": {},
     "output_type": "display_data"
    }
   ],
   "source": [
    "# plot predictions and truth for test set \n",
    "with tt.no_grad():\n",
    "    for batch,(x,y) in enumerate(dl_test): # will be only one batch\n",
    "        p = model(x)        # Forward pass\n",
    "    \n",
    "    plt.plot(y, label='truth', marker='s', linestyle='dashed', color='black', linewidth=0.5)\n",
    "    plt.plot(p, label='predicted', marker='.', linestyle='dashed', color='red', linewidth=0.5)\n",
    "    plt.xticks(range(len(y)))\n",
    "    plt.xlabel(\"Test Data Point\") # there are 20 points in test dataset\n",
    "    plt.legend()"
   ]
  },
  {
   "cell_type": "code",
   "execution_count": 63,
   "id": "244861b0",
   "metadata": {},
   "outputs": [
    {
     "name": "stdout",
     "output_type": "stream",
     "text": [
      "Final Model Weights\n",
      "OrderedDict({'W': tensor([[ 0.2064],\n",
      "        [ 0.2108],\n",
      "        [ 0.0309],\n",
      "        [ 0.5286],\n",
      "        [-0.1232]]), 'b': tensor([[0.0006]])})\n"
     ]
    }
   ],
   "source": [
    "print('Final Model Weights')\n",
    "print(model.state_dict())"
   ]
  },
  {
   "cell_type": "markdown",
   "id": "c9aa8f49",
   "metadata": {},
   "source": [
    "# [2] Logistic Regression"
   ]
  },
  {
   "cell_type": "markdown",
   "id": "d1b2c5c4",
   "metadata": {},
   "source": [
    "## Loading Dataset"
   ]
  },
  {
   "cell_type": "code",
   "execution_count": 64,
   "id": "ad17a6c0",
   "metadata": {},
   "outputs": [],
   "source": [
    "from torch.utils.data import Dataset, DataLoader,random_split\n",
    "import numpy as np\n",
    "\n",
    "class BreastDataset(Dataset):\n",
    "    \n",
    "    def __init__(self, csv):\n",
    "        # Load raw data as strings first (to handle 'M'/'B')\n",
    "        raw_data = np.loadtxt(csv, delimiter=\",\", skiprows=1, dtype=str)\n",
    "        \n",
    "        # Extract target column (index 1) and map M->1, B->0\n",
    "        target_str = raw_data[:, 1]\n",
    "        target_num = np.where(target_str == 'M', 1.0, 0.0).astype(np.float32)\n",
    "        \n",
    "        # Remove target column from features\n",
    "        features_str = np.delete(raw_data, 1, axis=1).astype(np.float32)\n",
    "        \n",
    "        # Convert to tensors\n",
    "        X = tt.tensor(features_str, dtype=tt.float32)\n",
    "        Y = tt.tensor(target_num, dtype=tt.float32).unsqueeze(1)  # shape [N,1]\n",
    "        \n",
    "        # Normalize features only\n",
    "        dm, dv = tt.mean(X, dim=0), tt.var(X, dim=0)\n",
    "        X = (X - dm) / (dv ** 0.5)\n",
    "        \n",
    "        self.X = X\n",
    "        self.Y = Y\n",
    "        self.L = len(X)\n",
    "        \n",
    "    def __len__(self):\n",
    "        return self.L\n",
    "    \n",
    "    def __getitem__(self, index):\n",
    "        return self.X[index], self.Y[index]"
   ]
  },
  {
   "cell_type": "code",
   "execution_count": 65,
   "id": "ee124d26",
   "metadata": {},
   "outputs": [],
   "source": [
    "ds = BreastDataset('https://archive.ics.uci.edu/ml/machine-learning-databases/breast-cancer-wisconsin/wdbc.data')\n",
    "# import pandas as pd\n",
    "# df = pd.read_csv(\"https://archive.ics.uci.edu/ml/machine-learning-databases/breast-cancer-wisconsin/wdbc.data\")\n",
    "# df.head()"
   ]
  },
  {
   "cell_type": "markdown",
   "id": "098484bd",
   "metadata": {},
   "source": [
    "**Train Test split**"
   ]
  },
  {
   "cell_type": "code",
   "execution_count": 66,
   "id": "513815cf",
   "metadata": {},
   "outputs": [
    {
     "name": "stdout",
     "output_type": "stream",
     "text": [
      "(tensor([-0.2364,  1.8305, -0.3580,  1.6876,  1.9087, -0.8245, -0.4851, -0.0193,\n",
      "         0.5548,  0.0053, -0.8671,  0.5055, -0.8759,  0.2698,  0.7496, -0.6047,\n",
      "        -0.6904, -0.4389,  0.2610, -0.8029, -0.0977,  1.8118, -0.3715,  1.5437,\n",
      "         1.8974, -0.3732, -0.4277, -0.1433,  1.0943, -0.2402,  0.2850]), tensor([1.]))\n"
     ]
    }
   ],
   "source": [
    "# Define split sizes\n",
    "train_size = int(0.8 * len(ds))\n",
    "test_size = len(ds) - train_size\n",
    "\n",
    "# Split the dataset\n",
    "ds_train, ds_test = random_split(ds, [train_size, test_size])\n",
    "\n",
    "# Create DataLoaders\n",
    "dl_train = DataLoader(ds_train, batch_size=30, shuffle=True)\n",
    "dl_test = DataLoader(ds_test, batch_size=len(ds_test), shuffle=False)\n",
    "\n",
    "print(ds[0])\n"
   ]
  },
  {
   "cell_type": "markdown",
   "id": "4ecab247",
   "metadata": {},
   "source": [
    "*reading sample data*"
   ]
  },
  {
   "cell_type": "code",
   "execution_count": 67,
   "id": "5472f087",
   "metadata": {},
   "outputs": [
    {
     "name": "stdout",
     "output_type": "stream",
     "text": [
      "tensor([-0.2362, -0.6217,  0.5188, -0.6335, -0.6129,  0.0967, -0.4879, -0.6955,\n",
      "        -0.7423, -0.4486, -0.1179, -0.3339, -0.5339, -0.4260, -0.3389,  0.2532,\n",
      "        -0.0205, -0.4472, -0.6606, -0.9373,  0.0247, -0.5357,  0.0746, -0.5851,\n",
      "        -0.5205,  0.7750, -0.0871, -0.5823, -0.6394, -0.7475,  0.0847]) torch.Size([31])\n",
      "tensor([0.]) torch.Size([1])\n"
     ]
    }
   ],
   "source": [
    "x,y = ds_test[2]\n",
    "print(x, x.shape)\n",
    "print(y, y.shape)"
   ]
  },
  {
   "cell_type": "markdown",
   "id": "ee850e50",
   "metadata": {},
   "source": [
    "### Making the Model"
   ]
  },
  {
   "cell_type": "code",
   "execution_count": 68,
   "id": "813367c7",
   "metadata": {},
   "outputs": [],
   "source": [
    "# the logistic regression model will basically take \n",
    "# y = w1*x1 + w2*x2 + ...... + b as input and returns the sigmoid of this as output \n",
    "# then we use 0.5 > as 0 and 0.5 < as 1\n",
    "\n",
    "# we use sigmoid as activation here\n",
    "\n",
    "\n",
    "class LogisticRegression(nn.Module):\n",
    "    \n",
    "    def __init__(self):\n",
    "        super().__init__()\n",
    "        self.W = nn.Parameter(tt.rand(size=(31, 1)))\n",
    "        self.b = nn.Parameter(tt.rand(size=(1,1)))\n",
    "    \n",
    "    def forward(self, X):\n",
    "        return tt.sigmoid(X@self.W + self.b)\n"
   ]
  },
  {
   "cell_type": "code",
   "execution_count": 69,
   "id": "f3ccf292",
   "metadata": {},
   "outputs": [
    {
     "name": "stdout",
     "output_type": "stream",
     "text": [
      "OrderedDict({'W': tensor([[ 0.2064],\n",
      "        [ 0.2108],\n",
      "        [ 0.0309],\n",
      "        [ 0.5286],\n",
      "        [-0.1232]]), 'b': tensor([[0.0006]])})\n"
     ]
    }
   ],
   "source": [
    "logistic_model = LogisticRegression()\n",
    "print(model.state_dict()) # prints the learnable parameters"
   ]
  },
  {
   "cell_type": "code",
   "execution_count": 70,
   "id": "cb1ff891",
   "metadata": {},
   "outputs": [],
   "source": [
    "# for binary classification we use binary cross-entropy loss function\n",
    "loss_fn = nn.BCELoss()\n",
    "\n",
    "# Stohcastic Gradient Descent (SGD)\n",
    "optimizer = oo.SGD(\n",
    "    logistic_model.parameters(),\n",
    "    lr = 0.01\n",
    ")"
   ]
  },
  {
   "cell_type": "code",
   "execution_count": 71,
   "id": "6e04b494",
   "metadata": {},
   "outputs": [
    {
     "name": "stdout",
     "output_type": "stream",
     "text": [
      "epoch 20/1000: train_loss=0.2832, val_loss=0.2107, val_acc=0.9123\n",
      "epoch 40/1000: train_loss=0.1289, val_loss=0.1308, val_acc=0.9474\n",
      "epoch 60/1000: train_loss=0.0925, val_loss=0.1079, val_acc=0.9561\n",
      "epoch 80/1000: train_loss=0.0839, val_loss=0.1004, val_acc=0.9561\n",
      "epoch 100/1000: train_loss=0.0799, val_loss=0.0969, val_acc=0.9561\n",
      "epoch 120/1000: train_loss=0.0800, val_loss=0.0941, val_acc=0.9649\n",
      "epoch 140/1000: train_loss=0.0792, val_loss=0.0923, val_acc=0.9649\n",
      "epoch 160/1000: train_loss=0.0714, val_loss=0.0902, val_acc=0.9649\n",
      "epoch 180/1000: train_loss=0.0672, val_loss=0.0886, val_acc=0.9649\n",
      "epoch 200/1000: train_loss=0.0697, val_loss=0.0873, val_acc=0.9561\n",
      "epoch 220/1000: train_loss=0.0639, val_loss=0.0861, val_acc=0.9561\n",
      "epoch 240/1000: train_loss=0.0640, val_loss=0.0852, val_acc=0.9561\n",
      "epoch 260/1000: train_loss=0.0615, val_loss=0.0844, val_acc=0.9561\n",
      "epoch 280/1000: train_loss=0.0607, val_loss=0.0837, val_acc=0.9649\n",
      "epoch 300/1000: train_loss=0.0657, val_loss=0.0828, val_acc=0.9649\n",
      "epoch 320/1000: train_loss=0.0623, val_loss=0.0823, val_acc=0.9649\n",
      "epoch 340/1000: train_loss=0.0672, val_loss=0.0821, val_acc=0.9737\n",
      "epoch 360/1000: train_loss=0.0590, val_loss=0.0819, val_acc=0.9737\n",
      "epoch 380/1000: train_loss=0.0605, val_loss=0.0813, val_acc=0.9737\n",
      "epoch 400/1000: train_loss=0.0576, val_loss=0.0810, val_acc=0.9737\n",
      "epoch 420/1000: train_loss=0.0589, val_loss=0.0808, val_acc=0.9737\n",
      "epoch 440/1000: train_loss=0.0562, val_loss=0.0805, val_acc=0.9737\n",
      "epoch 460/1000: train_loss=0.0550, val_loss=0.0797, val_acc=0.9737\n",
      "epoch 480/1000: train_loss=0.0545, val_loss=0.0792, val_acc=0.9825\n",
      "epoch 500/1000: train_loss=0.0579, val_loss=0.0791, val_acc=0.9737\n",
      "epoch 520/1000: train_loss=0.0541, val_loss=0.0791, val_acc=0.9737\n",
      "epoch 540/1000: train_loss=0.0534, val_loss=0.0790, val_acc=0.9737\n",
      "epoch 560/1000: train_loss=0.0571, val_loss=0.0791, val_acc=0.9737\n",
      "epoch 580/1000: train_loss=0.0625, val_loss=0.0792, val_acc=0.9825\n",
      "epoch 600/1000: train_loss=0.1185, val_loss=0.0794, val_acc=0.9825\n",
      "epoch 620/1000: train_loss=0.0522, val_loss=0.0791, val_acc=0.9825\n",
      "epoch 640/1000: train_loss=0.0539, val_loss=0.0790, val_acc=0.9737\n",
      "epoch 660/1000: train_loss=0.0591, val_loss=0.0789, val_acc=0.9737\n",
      "epoch 680/1000: train_loss=0.0518, val_loss=0.0789, val_acc=0.9737\n",
      "epoch 700/1000: train_loss=0.0512, val_loss=0.0785, val_acc=0.9825\n",
      "epoch 720/1000: train_loss=0.0548, val_loss=0.0783, val_acc=0.9825\n",
      "epoch 740/1000: train_loss=0.0508, val_loss=0.0784, val_acc=0.9825\n",
      "epoch 760/1000: train_loss=0.0505, val_loss=0.0784, val_acc=0.9825\n",
      "epoch 780/1000: train_loss=0.0510, val_loss=0.0785, val_acc=0.9825\n",
      "epoch 800/1000: train_loss=0.0526, val_loss=0.0786, val_acc=0.9825\n",
      "epoch 820/1000: train_loss=0.0500, val_loss=0.0784, val_acc=0.9825\n",
      "epoch 840/1000: train_loss=0.0525, val_loss=0.0783, val_acc=0.9825\n",
      "epoch 860/1000: train_loss=0.0554, val_loss=0.0786, val_acc=0.9825\n",
      "epoch 880/1000: train_loss=0.0495, val_loss=0.0783, val_acc=0.9825\n",
      "epoch 900/1000: train_loss=0.0518, val_loss=0.0784, val_acc=0.9825\n",
      "epoch 920/1000: train_loss=0.0519, val_loss=0.0785, val_acc=0.9825\n",
      "epoch 940/1000: train_loss=0.0490, val_loss=0.0786, val_acc=0.9825\n",
      "epoch 960/1000: train_loss=0.0498, val_loss=0.0784, val_acc=0.9825\n",
      "epoch 980/1000: train_loss=0.0512, val_loss=0.0786, val_acc=0.9825\n",
      "epoch 1000/1000: train_loss=0.0486, val_loss=0.0784, val_acc=0.9825\n"
     ]
    },
    {
     "data": {
      "image/png": "[encoded data removed]",
      "text/plain": [
       "<Figure size 640x480 with 1 Axes>"
      ]
     },
     "metadata": {},
     "output_type": "display_data"
    }
   ],
   "source": [
    "logistic_loss_history=[]\n",
    "logistic_val_loss_history=[]\n",
    "\n",
    "# Training loop\n",
    "max_epoch = 1000\n",
    "for epoch in range(max_epoch):\n",
    "    logistic_batch_loss_history = []\n",
    "    \n",
    "    for batch, (x,y) in enumerate(dl_train):\n",
    "        optimizer.zero_grad()\n",
    "        # print(x.shape)# clears the previous gradient accumulated by autograd\n",
    "        y_pred = logistic_model(x)\n",
    "        loss = loss_fn(y_pred, y)\n",
    "        loss.backward()\n",
    "        optimizer.step()\n",
    "        \n",
    "        logistic_batch_loss_history.append(loss.item())\n",
    "    \n",
    "    logistic_loss_history.append(sum(logistic_batch_loss_history)/len(logistic_batch_loss_history))\n",
    "    \n",
    "    \n",
    "    # testing\n",
    "    with tt.no_grad():\n",
    "        for batch, (x,y) in enumerate(dl_test):\n",
    "            y_pred = logistic_model(x)\n",
    "            loss = loss_fn(y_pred, y)\n",
    "            logistic_val_loss_history.append(loss.item())\n",
    "          \n",
    "    # Accuracy Calc\n",
    "    with tt.no_grad():\n",
    "        correct = 0\n",
    "        total = 0\n",
    "        for x, y in dl_test:\n",
    "            preds = (logistic_model(x) > 0.5).float()\n",
    "            correct += (preds == y).sum().item()\n",
    "            total += y.size(0)\n",
    "        acc = correct / total\n",
    "        \n",
    "      \n",
    "    if (epoch + 1) % 20 == 0:\n",
    "        print(f\"epoch {epoch+1}/{max_epoch}: \"\n",
    "              f\"train_loss={logistic_loss_history[-1]:.4f}, \"\n",
    "              f\"val_loss={logistic_val_loss_history[-1]:.4f}, \"\n",
    "              f\"val_acc={acc:.4f}\")   \n",
    "        \n",
    "        \n",
    "\n",
    "\n",
    "\n",
    "plt.scatter(range(len(logistic_loss_history)), logistic_loss_history, label='Training Loss', alpha=0.6)\n",
    "plt.scatter(range(len(logistic_val_loss_history)), logistic_val_loss_history, label='Validation Loss', alpha=0.6)\n",
    "plt.legend()\n",
    "plt.show()\n",
    "\n",
    "\n",
    "        \n",
    "        "
   ]
  },
  {
   "cell_type": "markdown",
   "id": "3ca1cbfc",
   "metadata": {},
   "source": [
    "## Confusion Matrix and Accuracy, Precision and Recall"
   ]
  },
  {
   "cell_type": "code",
   "execution_count": null,
   "id": "4ac18e34",
   "metadata": {},
   "outputs": [],
   "source": [
    "from sklearn.metrics import confusion_matrix, ConfusionMatrixDisplay, accuracy_score, precision_score, recall_score\n",
    "import numpy as np\n",
    "\n",
    "y_true_list = []\n",
    "y_pred_list = []\n",
    "\n",
    "# Puting model in evaluation mode & disableing gradient tracking\n",
    "logistic_model.eval()\n",
    "with tt.no_grad():\n",
    "    for x, y in dl_test:\n",
    "        probs = logistic_model(x)\n",
    "        preds = (probs > 0.5).float()  # Threshold at 0.5\n",
    "        y_true_list.extend(y.cpu().numpy())\n",
    "        y_pred_list.extend(preds.cpu().numpy())\n",
    "\n",
    "# Convert to numpy arrays\n",
    "y_true = np.array(y_true_list)\n",
    "y_pred = np.array(y_pred_list)\n"
   ]
  },
  {
   "cell_type": "markdown",
   "id": "ff6bd005",
   "metadata": {},
   "source": [
    "#### Confusion Matrix"
   ]
  },
  {
   "cell_type": "code",
   "execution_count": 73,
   "id": "9e6ccb8a",
   "metadata": {},
   "outputs": [
    {
     "data": {
      "image/png": "[encoded data removed]",
      "text/plain": [
       "<Figure size 640x480 with 2 Axes>"
      ]
     },
     "metadata": {},
     "output_type": "display_data"
    }
   ],
   "source": [
    "cm = confusion_matrix(y_true, y_pred)\n",
    "disp = ConfusionMatrixDisplay(confusion_matrix=cm)\n",
    "\n",
    "disp.plot(cmap=plt.cm.Blues)\n",
    "plt.title(\"Confusion Matrix\")\n",
    "plt.show()\n",
    "\n"
   ]
  },
  {
   "cell_type": "markdown",
   "id": "365db5fd",
   "metadata": {},
   "source": [
    "#### Accuray, Precision and recall"
   ]
  },
  {
   "cell_type": "code",
   "execution_count": 74,
   "id": "e1f5b575",
   "metadata": {},
   "outputs": [
    {
     "name": "stdout",
     "output_type": "stream",
     "text": [
      "Accuracy:  0.9825\n",
      "Precision: 1.0000\n",
      "Recall:    0.9556\n"
     ]
    }
   ],
   "source": [
    "acc = accuracy_score(y_true, y_pred)\n",
    "prec = precision_score(y_true, y_pred)\n",
    "rec = recall_score(y_true, y_pred)\n",
    "\n",
    "print(f\"Accuracy:  {acc:.4f}\")\n",
    "print(f\"Precision: {prec:.4f}\")\n",
    "print(f\"Recall:    {rec:.4f}\")"
   ]
  }
 ],
 "metadata": {
  "kernelspec": {
   "display_name": "DataScience",
   "language": "python",
   "name": "python3"
  },
  "language_info": {
   "codemirror_mode": {
    "name": "ipython",
    "version": 3
   },
   "file_extension": ".py",
   "mimetype": "text/x-python",
   "name": "python",
   "nbconvert_exporter": "python",
   "pygments_lexer": "ipython3",
   "version": "3.12.11"
  }
 },
 "nbformat": 4,
 "nbformat_minor": 5
}
