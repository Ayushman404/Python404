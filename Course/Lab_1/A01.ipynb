{
 "cells": [
  {
   "cell_type": "markdown",
   "metadata": {},
   "source": [
    "# CS2103 / Lab-01 - Assignment 01 - `28-07-2025`\n",
    "\n",
    "**Topic**: Python Programming Lab Assignment: Basics\n",
    "\n",
    "**Instructions**: Complete all the tasks below. Submit your code as a notebook file named `A01.ipynb`\n",
    "\n",
    "---\n",
    "\n",
    "### Part-A\n",
    "\n",
    "\n",
    "#### [1]\n",
    "Write a Python program to:\n",
    "- Create a list of 10 random integers between 1 and 100.\n",
    "- Find and display the second largest and second smallest numbers in the list without sorting it.\n",
    "\n",
    "\n",
    "#### [2]\n",
    "Write a program that:\n",
    "- Takes a string input from the user.\n",
    "- Counts the frequency of each character in the string.\n",
    "- Displays the characters and their frequencies in descending order of frequency.\n",
    "\n",
    "\n",
    "#### [3]\n",
    "Write a Python program to:\n",
    "- Create two 3x3 matrices (lists of lists) with user-provided integers.\n",
    "- Compute and display their:\n",
    "  - Sum\n",
    "  - Difference\n",
    "  - Element-wise multiplication\n",
    "\n",
    "#### [4]\n",
    "Write a Python program to:\n",
    "- Create a list with 10 integers (some may be duplicates) provided by the user.\n",
    "- Identify and display all the unique elements in the list.\n",
    "\n",
    "\n",
    "\n",
    "#### [5]\n",
    "Use list comprehensions to:\n",
    "- Generate a list of squares of all odd numbers between 1 and 50.\n",
    "- Create a list of strings that represent numbers divisible by 3 between 1 and 20 (e.g., `['3', '6', '9']`).\n",
    "\n",
    "\n",
    "\n",
    "#### [6]\n",
    "Write a program that:\n",
    "- Takes a dictionary as input with keys as items (e.g., fruits) and values as prices.\n",
    "- Finds and displays:\n",
    "  - The item with the highest price.\n",
    "  - The item with the lowest price.\n",
    "  - The average price of all items.\n",
    "\n",
    "\n",
    "\n",
    "#### [7]\n",
    "Write a program that:\n",
    "- Creates a tuple of 10 numbers entered by the user.\n",
    "- Converts the tuple into a list.\n",
    "- Replaces all odd numbers in the list with `-1`.\n",
    "- Converts the list back to a tuple and displays it.\n",
    "\n",
    "\n",
    "\n",
    "#### [8]\n",
    "Write a program that:\n",
    "- Takes a dictionary with names as keys and marks as values.\n",
    "- Allows the user to input a mark.\n",
    "- Finds and displays all names associated with that mark (reverse lookup).\n",
    "\n",
    "\n",
    "\n",
    "#### [9]\n",
    "Write a program that:\n",
    "- Generates a list of all prime numbers between two numbers input by the user.\n",
    "- Displays the count of prime numbers and the list itself.\n",
    "\n",
    "\n",
    "\n",
    "#### [10]\n",
    "Write a program that:\n",
    "- Takes a list of strings as input from the user.\n",
    "- Identifies and displays all the strings that are palindromes.\n",
    "\n",
    "---\n",
    "\n",
    "### Part-B\n",
    "\n",
    "#### [11]\n",
    "\n",
    "Write a Python program that takes a list of integers as input and finds the second-largest number in the list without using any built-in sorting functions. \n",
    "- Assume the list has at least two unique numbers.\n",
    "- Expected Input: Enter numbers separated by spaces: 12 35 1 10 34 1\n",
    "- Expected Output: The second largest number is: 34\n",
    "\n",
    "\n",
    "#### [12] \n",
    "\n",
    "Write a Python program that generates the first n numbers of the Fibonacci sequence.\n",
    "- Expected Input: Enter the number of terms for Fibonacci sequence: 6\n",
    "- Expected Output: The first 6 terms of Fibonacci sequence are: [0, 1, 1, 2, 3, 5]\n",
    "\n",
    "#### [13]\n",
    "\n",
    "Write a Python program that takes two sorted lists of integers and merges them into a single sorted list without using any built-in sorting functions.\n",
    "- Expected Input: \n",
    "  - Enter first sorted list: 1 3 5 7\n",
    "  - Enter second sorted list: 2 4 6 8\n",
    "- Expected Output:\n",
    "  - The merged sorted list is: [1, 2, 3, 4, 5, 6, 7, 8]\n",
    "\n",
    "---\n"
   ]
  },
  {
   "cell_type": "code",
   "execution_count": 12,
   "metadata": {},
   "outputs": [],
   "source": [
    "# Write your code here ...\n"
   ]
  },
  {
   "cell_type": "markdown",
   "metadata": {},
   "source": [
    "# Solution Codes"
   ]
  },
  {
   "cell_type": "markdown",
   "metadata": {},
   "source": [
    "## [1]\n",
    "Write a Python program to:\n",
    "- Create a list of 10 random integers between 1 and 100.\n",
    "- Find and display the second largest and second smallest numbers in the list without sorting it."
   ]
  },
  {
   "cell_type": "code",
   "execution_count": 13,
   "metadata": {},
   "outputs": [
    {
     "name": "stdout",
     "output_type": "stream",
     "text": [
      "[4, 46, 68, 55, 23, 89, 80, 14, 76, 74]\n",
      "80 14\n"
     ]
    }
   ],
   "source": [
    "import random\n",
    "\n",
    "# a = [random.randint(1, 100) for _ in range(10)]\n",
    "a = random.sample(range(1, 100), 10)\n",
    "\n",
    "\n",
    "# Finding the second largest and smallest numbers\n",
    "\n",
    "print(a)\n",
    "largest = 0\n",
    "second_largest = 0\n",
    "smallest = 101\n",
    "second_smallest = 101\n",
    "\n",
    "for num in a:\n",
    "\n",
    "    if num>largest:\n",
    "        second_largest = largest\n",
    "        largest = num\n",
    "\n",
    "    elif num > second_largest and num < largest:\n",
    "        second_largest = num\n",
    "\n",
    "    # Smallest\n",
    "\n",
    "    if num < smallest:\n",
    "        second_smallest = smallest\n",
    "        smallest = num\n",
    "\n",
    "    elif num > smallest and num < second_smallest:\n",
    "        second_smallest = num\n",
    "\n",
    "\n",
    "\n",
    "print(second_largest, second_smallest)"
   ]
  },
  {
   "cell_type": "markdown",
   "metadata": {},
   "source": []
  },
  {
   "cell_type": "markdown",
   "metadata": {},
   "source": [
    "## [2]\n",
    "Write a program that:\n",
    "- Takes a string input from the user.\n",
    "- Counts the frequency of each character in the string.\n",
    "- Displays the characters and their frequencies in descending order of frequency.\n"
   ]
  },
  {
   "cell_type": "code",
   "execution_count": 14,
   "metadata": {},
   "outputs": [
    {
     "name": "stdout",
     "output_type": "stream",
     "text": [
      "n: 9\n",
      "a: 2\n",
      "y: 1\n",
      "u: 1\n",
      "s: 1\n",
      "h: 1\n",
      "m: 1\n"
     ]
    }
   ],
   "source": [
    "# Taking input\n",
    "\n",
    "input_str = input(\"Enter the String: \")\n",
    "\n",
    "# print(str)\n",
    "hash_dict = {}\n",
    "# Initializing the frequenct table\n",
    "for char in input_str:\n",
    "    if char in hash_dict:\n",
    "        hash_dict[char] += 1\n",
    "    else:\n",
    "        hash_dict[char] = 1\n",
    "\n",
    "sort_hash = dict(sorted(hash_dict.items(), key=lambda item: item[1], reverse=True))\n",
    "# print(sort_hash)\n",
    "for item in sort_hash.items():\n",
    "    print(f'{item[0]}: {item[1]}')  "
   ]
  },
  {
   "cell_type": "markdown",
   "metadata": {},
   "source": [
    "## [3]\n",
    "Write a Python program to:\n",
    "- Create two 3x3 matrices (lists of lists) with user-provided integers.\n",
    "- Compute and display their:\n",
    "  - Sum\n",
    "  - Difference\n",
    "  - Element-wise multiplication"
   ]
  },
  {
   "cell_type": "code",
   "execution_count": 15,
   "metadata": {},
   "outputs": [
    {
     "name": "stdout",
     "output_type": "stream",
     "text": [
      "[[5, 7, 9], [11, 13, 10], [4, 2, 0]]\n",
      "[[1, 1, 1], [1, 1, -4], [0, 0, 0]]\n",
      "[[6, 12, 20], [30, 42, 21], [4, 1, 0]]\n"
     ]
    }
   ],
   "source": [
    "def enter_mat(prompt):\n",
    "    # print(prompt)\n",
    "    linear_matrix = list(map(int, input(f\"Enter the 9 integers of the 3x3 matrix: \").split()))\n",
    "    return [linear_matrix[i:i+3] for i in range(0, 9, 3)]\n",
    "\n",
    "mat_1 = enter_mat(\"Enter the 1st Matrix\")\n",
    "# print(mat_1)\n",
    "mat_2= enter_mat(\"Enter the 2nd Matrix\")\n",
    "# print(mat_2)\n",
    "\n",
    "def sum_diff_prod(mat_1, mat_2):\n",
    "    sum_mat = []\n",
    "    diff = []\n",
    "    prod = []\n",
    "    for i in range(3):\n",
    "        sum_row = []\n",
    "        diff_row = []\n",
    "        prod_row = []\n",
    "        for j in range(3):\n",
    "            sum_row.insert(j, mat_1[i][j] + mat_2[i][j])\n",
    "            diff_row.insert(j, mat_1[i][j] - mat_2[i][j])\n",
    "            prod_row.insert(j, mat_1[i][j] * mat_2[i][j])\n",
    "        sum_mat.append(sum_row)\n",
    "        diff.append(diff_row)\n",
    "        prod.append(prod_row)\n",
    "\n",
    "    return [sum_mat, diff, prod]\n",
    "\n",
    "[sum_mat, diff, prod] = sum_diff_prod(mat_1, mat_2)\n",
    "\n",
    "print(sum_mat)\n",
    "print(diff)\n",
    "print(prod)"
   ]
  },
  {
   "cell_type": "markdown",
   "metadata": {},
   "source": [
    "## [4]\n",
    "Write a Python program to:\n",
    "- Create a list with 10 integers (some may be duplicates) provided by the user.\n",
    "- Identify and display all the unique elements in the list."
   ]
  },
  {
   "cell_type": "code",
   "execution_count": 16,
   "metadata": {},
   "outputs": [
    {
     "name": "stdout",
     "output_type": "stream",
     "text": [
      "[4, 6, 5, 2, 1, 7]\n"
     ]
    }
   ],
   "source": [
    "ls = list(map(int, input(\"Enter the 10 Intergers(seperate with spaces): \").split()))\n",
    "\n",
    "# print(ls)\n",
    "hash_list = []\n",
    "\n",
    "for num in ls:\n",
    "    if num in hash_list:\n",
    "        continue\n",
    "    else:\n",
    "        hash_list.append(num)\n",
    "\n",
    "print(hash_list)"
   ]
  },
  {
   "cell_type": "markdown",
   "metadata": {},
   "source": [
    "## [5]\n",
    "Use list comprehensions to:\n",
    "- Generate a list of squares of all odd numbers between 1 and 50.\n",
    "- Create a list of strings that represent numbers divisible by 3 between 1 and 20 (e.g., `['3', '6', '9']`)."
   ]
  },
  {
   "cell_type": "code",
   "execution_count": 18,
   "metadata": {},
   "outputs": [
    {
     "name": "stdout",
     "output_type": "stream",
     "text": [
      "[1, 9, 25, 49, 81, 121, 169, 225, 289, 361, 441, 529, 625, 729, 841, 961, 1089, 1225, 1369, 1521, 1681, 1849, 2025, 2209, 2401]\n",
      "['1', '2', '4', '5', '7', '8', '10', '11', '13', '14', '16', '17', '19', '20']\n"
     ]
    }
   ],
   "source": [
    "square_of_odd = [x**2 for x in range(1, 50) if x % 2 != 0]\n",
    "print(square_of_odd)\n",
    "\n",
    "div_by_3 = [str(i) for i in range(1, 21) if i%3 != 0]\n",
    "print(div_by_3)"
   ]
  },
  {
   "cell_type": "markdown",
   "metadata": {},
   "source": [
    "## [6]\n",
    "Write a program that:\n",
    "- Takes a dictionary as input with keys as items (e.g., fruits) and values as prices.\n",
    "- Finds and displays:\n",
    "  - The item with the highest price.\n",
    "  - The item with the lowest price.\n",
    "  - The average price of all items."
   ]
  },
  {
   "cell_type": "code",
   "execution_count": 18,
   "metadata": {},
   "outputs": [
    {
     "name": "stdout",
     "output_type": "stream",
     "text": [
      "Item with highest price: 'mango' - 120.0\n",
      "Item with lowest price: 'banana' - 40.0\n",
      "Average price of all items: 80.00\n"
     ]
    }
   ],
   "source": [
    "# Define your price dictionary\n",
    "# price_dict = {\n",
    "    # 'apple': 100,\n",
    "    # 'banana': 40,\n",
    "    # 'mango': 120,\n",
    "    # 'orange': 80,\n",
    "    # 'grapes': 60\n",
    "# }\n",
    "\n",
    "input_str = input(\"Enter items and prices (e.g. apple:10, banana:20): \")\n",
    "\n",
    "price_dict = {}\n",
    "for item in input_str.split(','):\n",
    "    key, value = item.split(':')\n",
    "    price_dict[key.strip()] = float(value.strip())\n",
    "\n",
    "\n",
    "\n",
    "# Find item with highest price\n",
    "highest_item = max(price_dict, key=price_dict.get)\n",
    "# Find item with lowest price\n",
    "lowest_item = min(price_dict, key=price_dict.get)\n",
    "# Calculate average\n",
    "avg_price = sum(price_dict.values()) / len(price_dict)\n",
    "\n",
    "print(f\"Item with highest price: {highest_item} - {price_dict[highest_item]}\")\n",
    "print(f\"Item with lowest price: {lowest_item} - {price_dict[lowest_item]}\")\n",
    "print(f\"Average price of all items: {avg_price:.2f}\")\n"
   ]
  },
  {
   "cell_type": "markdown",
   "metadata": {},
   "source": [
    "## [7]\n",
    "Write a program that:\n",
    "- Creates a tuple of 10 numbers entered by the user.\n",
    "- Converts the tuple into a list.\n",
    "- Replaces all odd numbers in the list with `-1`.\n",
    "- Converts the list back to a tuple and displays it."
   ]
  },
  {
   "cell_type": "code",
   "execution_count": 37,
   "metadata": {},
   "outputs": [
    {
     "name": "stdout",
     "output_type": "stream",
     "text": [
      "(-1, 2, -1, 4, -1, 6, -1, 8, -1, 0)\n"
     ]
    }
   ],
   "source": [
    "user_inp_tup = tuple(map(int, input(\"Enter the Numbers of Tuple: \").split()))\n",
    "# print(user_inp_tup)\n",
    "# Converting in the list\n",
    "\n",
    "converted_list = list(user_inp_tup)\n",
    "# print(converted_list)\n",
    "\n",
    "converted_list = [ -1 if x %2 != 0 else x for x in converted_list]\n",
    "# print(converted_list)\n",
    "\n",
    "new_converted_tuple = tuple(converted_list)\n",
    "print(new_converted_tuple)\n"
   ]
  },
  {
   "cell_type": "markdown",
   "metadata": {},
   "source": [
    "## [8]\n",
    "Write a program that:\n",
    "- Takes a dictionary with names as keys and marks as values.\n",
    "- Allows the user to input a mark.\n",
    "- Finds and displays all names associated with that mark (reverse lookup)."
   ]
  },
  {
   "cell_type": "code",
   "execution_count": 55,
   "metadata": {},
   "outputs": [
    {
     "name": "stdout",
     "output_type": "stream",
     "text": [
      "Abhav\n"
     ]
    }
   ],
   "source": [
    "dummy_dict = {\n",
    "    \"Ayushman\": 99,\n",
    "    \"Abhav\": 45,\n",
    "    \"Lavanya\": 88,\n",
    "    \"Vishmith\": 78,\n",
    "    \"Dikshit\": 65,\n",
    "    \"Priyanshu\": 59\n",
    "}\n",
    "\n",
    "def name_lookup(my_dict, mark):\n",
    "    for name in my_dict.keys():\n",
    "        if my_dict.get(name) == mark:\n",
    "            print(name)\n",
    "            \n",
    "\n",
    "\n",
    "mark = int(input(\"Enter the Mark to search: \"))\n",
    "name_lookup(dummy_dict, mark)"
   ]
  },
  {
   "cell_type": "markdown",
   "metadata": {},
   "source": [
    "## [9]\n",
    "Write a program that:\n",
    "- Generates a list of all prime numbers between two numbers input by the user.\n",
    "- Displays the count of prime numbers and the list itself."
   ]
  },
  {
   "cell_type": "code",
   "execution_count": null,
   "metadata": {},
   "outputs": [],
   "source": [
    "import math\n",
    "[start, end] = list(map(int, input(\"Enter the range of numbers (eg: 2 50): \").split()))\n",
    "\n",
    "def is_prime(x):\n",
    "    flag = 0\n",
    "    for i in range(2, int(math.sqrt(x))+1):\n",
    "        if x % i == 0:\n",
    "            flag += 1\n",
    "        \n",
    "        if flag != 0:\n",
    "            return False\n",
    "        \n",
    "    return True\n",
    "\n",
    "prime_nums = []\n",
    "\n",
    "for i in range(start, end):\n",
    "    if is_prime(i):\n",
    "        prime_nums.append(i)\n",
    "        \n",
    "        \n",
    "print(len(prime_nums))\n",
    "print(prime_nums)\n"
   ]
  },
  {
   "cell_type": "markdown",
   "metadata": {},
   "source": [
    "## [10]\n",
    "Write a program that:\n",
    "- Takes a list of strings as input from the user.\n",
    "- Identifies and displays all the strings that are palindromes."
   ]
  },
  {
   "cell_type": "code",
   "execution_count": 62,
   "metadata": {},
   "outputs": [
    {
     "name": "stdout",
     "output_type": "stream",
     "text": [
      "tat\n",
      "racecar\n"
     ]
    }
   ],
   "source": [
    "dummy_inp_strings = [\"tat\", \"racecar\", \"Lavanya\", \"Vishmith\", \"Dikshit\"]\n",
    "\n",
    "def is_palindoromes(my_str):\n",
    "    if(my_str == my_str[::-1]):\n",
    "        return True\n",
    "    return False\n",
    "\n",
    "for x in dummy_inp_strings:\n",
    "    if is_palindoromes(x):\n",
    "        print(x)"
   ]
  },
  {
   "cell_type": "markdown",
   "metadata": {},
   "source": [
    "## [11]\n",
    "\n",
    "Write a Python program that takes a list of integers as input and finds the second-largest number in the list without using any built-in sorting functions. \n",
    "- Assume the list has at least two unique numbers.\n",
    "- Expected Input: Enter numbers separated by spaces: 12 35 1 10 34 1\n",
    "- Expected Output: The second largest number is: 34"
   ]
  },
  {
   "cell_type": "code",
   "execution_count": 2,
   "metadata": {},
   "outputs": [
    {
     "name": "stdout",
     "output_type": "stream",
     "text": [
      "The second largest number is: 34\n"
     ]
    }
   ],
   "source": [
    "a = list(map(int, input(\"Enter numbers seperated by spaces: \").split()))\n",
    "\n",
    "largest = 0\n",
    "second_largest = 0\n",
    "\n",
    "for num in a:\n",
    "\n",
    "    if num>largest:\n",
    "        second_largest = largest\n",
    "        largest = num\n",
    "\n",
    "    elif num > second_largest and num < largest:\n",
    "        second_largest = num\n",
    "\n",
    "\n",
    "\n",
    "print(f\"The second largest number is: {second_largest}\")"
   ]
  },
  {
   "cell_type": "markdown",
   "metadata": {},
   "source": [
    "## [12] \n",
    "\n",
    "Write a Python program that generates the first n numbers of the Fibonacci sequence.\n",
    "- Expected Input: Enter the number of terms for Fibonacci sequence: 6\n",
    "- Expected Output: The first 6 terms of Fibonacci sequence are: [0, 1, 1, 2, 3, 5]"
   ]
  },
  {
   "cell_type": "code",
   "execution_count": 10,
   "metadata": {},
   "outputs": [
    {
     "name": "stdout",
     "output_type": "stream",
     "text": [
      "[0, 1, 1, 2, 3, 5]\n"
     ]
    }
   ],
   "source": [
    "n = int(input(\"Enter the number of terms for Fibonacci sequence: \"))\n",
    "# print(n)?\n",
    "\n",
    "def nth_fibonacci(n):\n",
    "    if n < 2:\n",
    "        return n\n",
    "    \n",
    "    return nth_fibonacci(n-2) + nth_fibonacci(n-1)\n",
    "\n",
    "fib_seq = [nth_fibonacci(x) for x in range(n)]\n",
    "print(fib_seq)\n",
    "    \n",
    "    "
   ]
  },
  {
   "cell_type": "markdown",
   "metadata": {},
   "source": [
    "## [13]\n",
    "\n",
    "Write a Python program that takes two sorted lists of integers and merges them into a single sorted list without using any built-in sorting functions.\n",
    "- Expected Input: \n",
    "  - Enter first sorted list: 1 3 5 7\n",
    "  - Enter second sorted list: 2 4 6 8\n",
    "- Expected Output:\n",
    "  - The merged sorted list is: [1, 2, 3, 4, 5, 6, 7, 8]"
   ]
  },
  {
   "cell_type": "code",
   "execution_count": 11,
   "metadata": {},
   "outputs": [
    {
     "name": "stdout",
     "output_type": "stream",
     "text": [
      "The merged sorted list is: [1, 2, 3, 4, 5, 6, 7, 8]\n"
     ]
    }
   ],
   "source": [
    "first_sorted = list(map(int, input(\"Enter first sorted list: \").split()))\n",
    "second_sorted = list(map(int, input(\"Enter second sorted list: \").split()))\n",
    "\n",
    "i = 0\n",
    "j=0\n",
    "merged = []\n",
    "\n",
    "while i < len(first_sorted) and j < len(second_sorted):\n",
    "    if first_sorted[i] >= second_sorted[j]:\n",
    "        merged.append(second_sorted[j])\n",
    "        j += 1\n",
    "    else:\n",
    "        merged.append(first_sorted[i])\n",
    "        i += 1\n",
    "        \n",
    "while i<len(first_sorted):\n",
    "    merged.append(first_sorted[i])\n",
    "    i+=1\n",
    "\n",
    "while j<len(second_sorted):\n",
    "    merged.append(second_sorted[j])\n",
    "    j+=1\n",
    "\n",
    "print(f\"The merged sorted list is: {merged}\")\n",
    "    \n",
    "    \n",
    "    \n",
    "    \n",
    "    "
   ]
  },
  {
   "cell_type": "code",
   "execution_count": null,
   "metadata": {},
   "outputs": [],
   "source": []
  }
 ],
 "metadata": {
  "kernelspec": {
   "display_name": "DataScience",
   "language": "python",
   "name": "python3"
  },
  "language_info": {
   "codemirror_mode": {
    "name": "ipython",
    "version": 3
   },
   "file_extension": ".py",
   "mimetype": "text/x-python",
   "name": "python",
   "nbconvert_exporter": "python",
   "pygments_lexer": "ipython3",
   "version": "3.12.11"
  }
 },
 "nbformat": 4,
 "nbformat_minor": 2
}
