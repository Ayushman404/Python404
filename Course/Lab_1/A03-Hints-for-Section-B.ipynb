{
 "cells": [
  {
   "cell_type": "markdown",
   "id": "bef6a76a",
   "metadata": {},
   "source": [
    "# Section B"
   ]
  },
  {
   "cell_type": "code",
   "execution_count": 176,
   "id": "ea3bc272",
   "metadata": {},
   "outputs": [],
   "source": [
    "import torch as tt\n",
    "import torch.nn as nn\n",
    "import torch.optim as oo"
   ]
  },
  {
   "cell_type": "markdown",
   "id": "533bfc71",
   "metadata": {},
   "source": [
    "## [1] Loading data"
   ]
  },
  {
   "cell_type": "code",
   "execution_count": null,
   "id": "70604aaf",
   "metadata": {},
   "outputs": [],
   "source": [
    "# Load Data from car train and car test\n",
    "# here we shall use Dataloader and Dataset from pytorch\n",
    "\n",
    "from torch.utils.data import Dataset, DataLoader\n",
    "import numpy as np \n",
    "\n",
    "# to define a custom Dataset, we have to inherit from pytorch Dataset class \n",
    "#   and define 3 main methods - __init__, __len__ and __getitem__\n",
    "\n",
    "class CarDataset(Dataset):\n",
    "\n",
    "    def __init__(self, csv): \n",
    "        # initialize a car-dataset by reading from a csv file\n",
    "        data = tt.tensor(np.loadtxt(\n",
    "            csv,                # dataset csv-file\n",
    "            delimiter=\",\",      # (C)omma (S)eperated (V)alues\n",
    "            skiprows=1,         # skip the header [carlength,carwidth,carheight,horsepower,peakrpm,price]\n",
    "            dtype=np.float32,   \n",
    "        )) \n",
    "        # this will produce an array of size (n x 6) where\n",
    "        #  each row (in n) is a sample, \n",
    "        #  each col is a feature, last col is target feature\n",
    "\n",
    "        # normalize this dataset, since features have wide range of values\n",
    "        dm, dv = tt.mean(data, dim=0), tt.var(data, dim=0)\n",
    "        self.data = (data-dm)/(dv**0.5)\n",
    "\n",
    "        self.X = self.data[:, 0:5] # first 5 five cols are input X \n",
    "        self.Y = self.data[:, 5: ]  # last col is label Y \n",
    "\n",
    "        self.L = len(self.data)\n",
    "\n",
    "    def __len__(self): return self.L # total samples in this dataset\n",
    "    \n",
    "    def __getitem__(self, index): \n",
    "        # should return a single sample as X,Y\n",
    "        return self.X[index, :], self.Y[index, :]\n"
   ]
  },
  {
   "cell_type": "code",
   "execution_count": 178,
   "id": "92399bab",
   "metadata": {},
   "outputs": [],
   "source": [
    "# initialize training dataset\n",
    "ds_train = CarDataset('car_train.csv')\n",
    "ds_test = CarDataset('car_test.csv')"
   ]
  },
  {
   "cell_type": "code",
   "execution_count": 179,
   "id": "75ed8b46",
   "metadata": {},
   "outputs": [
    {
     "name": "stdout",
     "output_type": "stream",
     "text": [
      "Trainset torch.Size([80, 5]) torch.Size([80, 1]) 80\n",
      "Testset torch.Size([20, 5]) torch.Size([20, 1]) 20\n"
     ]
    }
   ],
   "source": [
    "# check \n",
    "print('Trainset', ds_train.X.shape, ds_train.Y.shape, ds_train.L)\n",
    "print('Testset', ds_test.X.shape, ds_test.Y.shape, ds_test.L)"
   ]
  },
  {
   "cell_type": "code",
   "execution_count": 180,
   "id": "2e8d5c2d",
   "metadata": {},
   "outputs": [
    {
     "name": "stdout",
     "output_type": "stream",
     "text": [
      "tensor([ 0.9678,  1.5768, -1.2235,  1.8415, -0.8952]) torch.Size([5])\n",
      "tensor([1.5375]) torch.Size([1])\n"
     ]
    }
   ],
   "source": [
    "# we can read from dataset using indexing, this will call __getitem__ and return a (X, Y) pair\n",
    "x,y = ds_test[2]\n",
    "print(x, x.shape) \n",
    "print(y, y.shape)"
   ]
  },
  {
   "cell_type": "code",
   "execution_count": 181,
   "id": "fc9d0a57",
   "metadata": {},
   "outputs": [
    {
     "name": "stdout",
     "output_type": "stream",
     "text": [
      "batch #0\n",
      "x.shape=torch.Size([10, 5])\n",
      "x=tensor([[ 0.9163,  0.6758, -1.6392,  0.8525,  1.8175],\n",
      "        [ 0.9163,  0.6758, -1.6392, -0.1023, -0.8952],\n",
      "        [ 0.9678,  1.5768, -1.2235,  1.8415, -0.8952],\n",
      "        [ 0.9678,  1.5768, -1.2235,  1.8415, -0.8952],\n",
      "        [ 0.9678,  1.5768, -1.2235,  1.8415, -0.8952],\n",
      "        [ 0.7619,  0.6758, -0.4962, -0.1023, -0.8952],\n",
      "        [ 0.7619,  0.6758, -0.4962, -0.1023, -0.8952],\n",
      "        [ 0.7619,  0.6758, -0.4962,  0.8525,  1.8175],\n",
      "        [ 0.7619,  0.6758, -0.4962,  0.8525,  1.8175],\n",
      "        [-1.0656, -0.9260,  1.0105, -0.7502,  0.1899]]) \n",
      "y.shape=torch.Size([10, 1])\n",
      "y=tensor([[ 0.4734],\n",
      "        [-0.1084],\n",
      "        [ 1.5375],\n",
      "        [ 2.4302],\n",
      "        [ 2.2788],\n",
      "        [-0.7102],\n",
      "        [-0.2319],\n",
      "        [ 0.2025],\n",
      "        [ 0.2025],\n",
      "        [-1.3040]])\n",
      "\n",
      "\n",
      "batch #1\n",
      "x.shape=torch.Size([10, 5])\n",
      "x=tensor([[-1.0656, -0.9260,  1.0105, -1.2277, -1.9803],\n",
      "        [-1.0656, -0.9260,  1.0105, -0.7502,  0.1899],\n",
      "        [-1.0656, -0.9260,  1.0105, -0.7502,  0.1899],\n",
      "        [ 0.1956, -0.9260,  0.4910, -0.7502,  0.1899],\n",
      "        [-1.0656, -0.9260,  1.0105, -0.7502,  0.1899],\n",
      "        [-0.9884, -0.9260,  0.3871, -0.7502,  0.1899],\n",
      "        [-1.0656, -0.9260,  1.0105, -0.7502,  0.1899],\n",
      "        [ 0.1956, -0.9260,  0.4910, -0.7502,  0.1899],\n",
      "        [-1.8121, -0.9260,  0.3871, -0.7502,  0.1899],\n",
      "        [ 1.0193,  0.4755,  1.1144,  0.2046,  0.1899]]) \n",
      "y.shape=torch.Size([10, 1])\n",
      "y=tensor([[-0.6663],\n",
      "        [-0.8457],\n",
      "        [-0.7660],\n",
      "        [-0.5667],\n",
      "        [-0.5866],\n",
      "        [-0.3874],\n",
      "        [-0.5069],\n",
      "        [-0.3077],\n",
      "        [-0.2080],\n",
      "        [ 0.0709]])\n",
      "\n",
      "\n"
     ]
    }
   ],
   "source": [
    "# to actually read from dataset during training we shall use dataloader\n",
    "# this allows us to define batch-size, shuffle, transforms etc on the dataset\n",
    "\n",
    "# create a dataloader and specify batch size\n",
    "dl = DataLoader(ds_test, batch_size=10, shuffle=False)\n",
    "\n",
    "# enumerate through the dataloader\n",
    "for i,(x,y) in enumerate(dl): print(f'batch #{i}\\n{x.shape=}\\n{x=} \\n{y.shape=}\\n{y=}\\n\\n')\n",
    "\n",
    "# since there are 20 test points, this will create 4 batches of batch-size=5\n"
   ]
  },
  {
   "cell_type": "markdown",
   "id": "eccb0c86",
   "metadata": {},
   "source": [
    "# [1] Linear Regression"
   ]
  },
  {
   "cell_type": "markdown",
   "id": "d04edf4a",
   "metadata": {},
   "source": [
    "### making the model"
   ]
  },
  {
   "cell_type": "code",
   "execution_count": 182,
   "id": "6f9d0323",
   "metadata": {},
   "outputs": [],
   "source": [
    "# the linear regression model is of the form:\n",
    "# y = w1*x1 + w2*x2 + ... + wn*xn + b\n",
    "# which can be expressed as a dot product of the weight-vector (w) and the input vector (x) plus the bias (b)\n",
    "# i.e., y = W*X + b\n",
    "# since there are 5 input features (x) - carlength, carwidth, carheight, horsepower, peakrpm\n",
    "# we have n=5\n",
    "# we have to predict a single feature (y) - price\n",
    "# our linear model would be as follows:\n",
    "\n",
    "class LinearModel(nn.Module):\n",
    "    # Note: we dont use any activation here\n",
    "    def __init__(self):\n",
    "        super().__init__()\n",
    "        self.W = nn.Parameter(tt.rand(size=(5,1)))   \n",
    "        self.b = nn.Parameter(tt.rand(size=(1,1)))       \n",
    "\n",
    "    def forward(self, X): #<--- input X is supposed to be a 5-dimensional vector\n",
    "        return X@self.W + self.b \n",
    "    \n",
    "    "
   ]
  },
  {
   "cell_type": "code",
   "execution_count": 183,
   "id": "3c95035a",
   "metadata": {},
   "outputs": [
    {
     "name": "stdout",
     "output_type": "stream",
     "text": [
      "OrderedDict({'W': tensor([[0.3482],\n",
      "        [0.5721],\n",
      "        [0.9952],\n",
      "        [0.0120],\n",
      "        [0.1876]]), 'b': tensor([[0.9928]])})\n"
     ]
    }
   ],
   "source": [
    "model = LinearModel()\n",
    "print(model.state_dict())"
   ]
  },
  {
   "cell_type": "code",
   "execution_count": 184,
   "id": "892b370b",
   "metadata": {},
   "outputs": [],
   "source": [
    "# for regression we use MSELoss\n",
    "lossfn = nn.MSELoss()\n",
    "\n",
    "# Stohcastic Gradient Descent (SGD)\n",
    "optim = oo.SGD( \n",
    "    model.parameters(), #<--- pass the parameters of the model to be trained\n",
    "    lr=0.01            #<--- set the learning rate\n",
    "    )"
   ]
  },
  {
   "cell_type": "code",
   "execution_count": 185,
   "id": "51f3700f",
   "metadata": {},
   "outputs": [
    {
     "name": "stdout",
     "output_type": "stream",
     "text": [
      "epoch 20 of 1000: training_loss=0.1431772392243147, val_loss=0.2533873915672302\n",
      "epoch 40 of 1000: training_loss=0.12778900749981403, val_loss=0.22790178656578064\n",
      "epoch 60 of 1000: training_loss=0.1259321770630777, val_loss=0.2216978818178177\n",
      "epoch 80 of 1000: training_loss=0.1253977776505053, val_loss=0.21932943165302277\n",
      "epoch 100 of 1000: training_loss=0.1276955045759678, val_loss=0.2188541442155838\n",
      "epoch 120 of 1000: training_loss=0.12542972899973392, val_loss=0.21817322075366974\n",
      "epoch 140 of 1000: training_loss=0.12577123055234551, val_loss=0.21863727271556854\n",
      "epoch 160 of 1000: training_loss=0.1254893927834928, val_loss=0.2189858853816986\n",
      "epoch 180 of 1000: training_loss=0.1251997547224164, val_loss=0.21937230229377747\n",
      "epoch 200 of 1000: training_loss=0.12556517077609897, val_loss=0.21894872188568115\n",
      "epoch 220 of 1000: training_loss=0.12503141490742564, val_loss=0.2194610834121704\n",
      "epoch 240 of 1000: training_loss=0.12601625407114625, val_loss=0.2191603183746338\n",
      "epoch 260 of 1000: training_loss=0.12593531096354127, val_loss=0.21981212496757507\n",
      "epoch 280 of 1000: training_loss=0.1252228240482509, val_loss=0.21999499201774597\n",
      "epoch 300 of 1000: training_loss=0.12498666625469923, val_loss=0.21985431015491486\n",
      "epoch 320 of 1000: training_loss=0.12501303385943174, val_loss=0.2196359932422638\n",
      "epoch 340 of 1000: training_loss=0.12578907329589128, val_loss=0.22017636895179749\n",
      "epoch 360 of 1000: training_loss=0.1256598960608244, val_loss=0.22018592059612274\n",
      "epoch 380 of 1000: training_loss=0.12580652721226215, val_loss=0.21997180581092834\n",
      "epoch 400 of 1000: training_loss=0.12514253798872232, val_loss=0.22038714587688446\n",
      "epoch 420 of 1000: training_loss=0.12636340828612447, val_loss=0.22026309370994568\n",
      "epoch 440 of 1000: training_loss=0.12600670009851456, val_loss=0.2199518382549286\n",
      "epoch 460 of 1000: training_loss=0.12565216422080994, val_loss=0.21963174641132355\n",
      "epoch 480 of 1000: training_loss=0.1255448437295854, val_loss=0.2203807830810547\n",
      "epoch 500 of 1000: training_loss=0.1251688152551651, val_loss=0.22043056786060333\n",
      "epoch 520 of 1000: training_loss=0.12582255899906158, val_loss=0.22021809220314026\n",
      "epoch 540 of 1000: training_loss=0.12612846121191978, val_loss=0.220118448138237\n",
      "epoch 560 of 1000: training_loss=0.1260436587035656, val_loss=0.22016677260398865\n",
      "epoch 580 of 1000: training_loss=0.12531723314896226, val_loss=0.22015361487865448\n",
      "epoch 600 of 1000: training_loss=0.12579008704051375, val_loss=0.21972540020942688\n",
      "epoch 620 of 1000: training_loss=0.1255157901905477, val_loss=0.2202320545911789\n",
      "epoch 640 of 1000: training_loss=0.12593213375657797, val_loss=0.21997198462486267\n",
      "epoch 660 of 1000: training_loss=0.12556472420692444, val_loss=0.21962900459766388\n",
      "epoch 680 of 1000: training_loss=0.12606068747118115, val_loss=0.21987076103687286\n",
      "epoch 700 of 1000: training_loss=0.1254261932335794, val_loss=0.22019949555397034\n",
      "epoch 720 of 1000: training_loss=0.1254602186381817, val_loss=0.22003524005413055\n",
      "epoch 740 of 1000: training_loss=0.12584818853065372, val_loss=0.22009184956550598\n",
      "epoch 760 of 1000: training_loss=0.12556104641407728, val_loss=0.22040891647338867\n",
      "epoch 780 of 1000: training_loss=0.1254124790430069, val_loss=0.219735786318779\n",
      "epoch 800 of 1000: training_loss=0.12585349404253066, val_loss=0.22002597153186798\n",
      "epoch 820 of 1000: training_loss=0.12565859034657478, val_loss=0.22006145119667053\n",
      "epoch 840 of 1000: training_loss=0.12531685270369053, val_loss=0.22011911869049072\n",
      "epoch 860 of 1000: training_loss=0.12496025487780571, val_loss=0.22020766139030457\n",
      "epoch 880 of 1000: training_loss=0.12624592543579638, val_loss=0.21987757086753845\n",
      "epoch 900 of 1000: training_loss=0.12635140353813767, val_loss=0.2205417901277542\n",
      "epoch 920 of 1000: training_loss=0.12495868187397718, val_loss=0.2198641300201416\n",
      "epoch 940 of 1000: training_loss=0.12548700720071793, val_loss=0.21982836723327637\n",
      "epoch 960 of 1000: training_loss=0.12598615884780884, val_loss=0.22008316218852997\n",
      "epoch 980 of 1000: training_loss=0.1250117183662951, val_loss=0.21975700557231903\n",
      "epoch 1000 of 1000: training_loss=0.1259858524426818, val_loss=0.22055549919605255\n"
     ]
    },
    {
     "data": {
      "image/png": "[encoded data removed]",
      "text/plain": [
       "<Figure size 640x480 with 1 Axes>"
      ]
     },
     "metadata": {},
     "output_type": "display_data"
    },
    {
     "name": "stdout",
     "output_type": "stream",
     "text": [
      "\n",
      "Training Loss = 0.1259858524426818\n",
      "Validation Loss = 0.22055549919605255\n",
      "\n"
     ]
    }
   ],
   "source": [
    "loss_history=[] # will plot it later to see it decreasing ... \n",
    "val_loss_history=[]\n",
    "# ready dataloader\n",
    "dl_train = DataLoader(ds_train, batch_size=10, shuffle=True)\n",
    "dl_test = DataLoader(ds_test, batch_size=len(ds_test), shuffle=False) # we will test the whole test dataset, so batch size is same as len\n",
    "\n",
    "# Training loop\n",
    "max_epoch = 1000\n",
    "for epoch in range(max_epoch):  # Number of epochs\n",
    "    # in each epoch train the whole dataset but divide by batch\n",
    "    batch_loss_history = []\n",
    "    #print(f'Starting epoch {epoch+1} of {max_epoch}')\n",
    "    for batch,(x,y) in enumerate(dl_train):\n",
    "        optim.zero_grad()# Clear gradients (can be done after optimizer.step too)\n",
    "        p = model(x)        # Forward pass\n",
    "        loss = lossfn(p, y)  # Compute loss\n",
    "        loss.backward()     # Backward pass\n",
    "        optim.step()        # Update weights\n",
    "\n",
    "        batch_loss_history.append(loss.item())\n",
    "        #print(f'\\t{batch=}, loss={batch_loss_history[-1]}')\n",
    "\n",
    "    loss_history.append(sum(batch_loss_history)/len(batch_loss_history)) #<--- record only average batch loss\n",
    "\n",
    "    # testing\n",
    "    with tt.no_grad():\n",
    "        for batch,(x,y) in enumerate(dl_test): # will be only one batch\n",
    "            p = model(x)        # Forward pass\n",
    "            loss = lossfn(p, y)  # Compute loss\n",
    "            val_loss_history.append(loss.item())\n",
    "\n",
    "    if (epoch+1) % 20 == 0:\n",
    "        print(f'epoch {epoch+1} of {max_epoch}: training_loss={loss_history[-1]}, val_loss={val_loss_history[-1]}')\n",
    "\n",
    "# finally plot the loss\n",
    "import matplotlib.pyplot as plt\n",
    "plt.plot(loss_history, label='training loss',)\n",
    "plt.plot(val_loss_history, label='validation loss', )\n",
    "plt.legend()\n",
    "plt.show()\n",
    "\n",
    "print(f\"\"\"\n",
    "Training Loss = {loss_history[-1]}\n",
    "Validation Loss = {val_loss_history[-1]}\n",
    "\"\"\")"
   ]
  },
  {
   "cell_type": "code",
   "execution_count": 186,
   "id": "8066e4eb",
   "metadata": {},
   "outputs": [
    {
     "data": {
      "image/png": "[encoded data removed]",
      "text/plain": [
       "<Figure size 640x480 with 1 Axes>"
      ]
     },
     "metadata": {},
     "output_type": "display_data"
    }
   ],
   "source": [
    "# plot predictions and truth for test set \n",
    "with tt.no_grad():\n",
    "    for batch,(x,y) in enumerate(dl_test): # will be only one batch\n",
    "        p = model(x)        # Forward pass\n",
    "    \n",
    "    plt.plot(y, label='truth', marker='s', linestyle='dashed', color='black', linewidth=0.5)\n",
    "    plt.plot(p, label='predicted', marker='.', linestyle='dashed', color='red', linewidth=0.5)\n",
    "    plt.xticks(range(len(y)))\n",
    "    plt.xlabel(\"Test Data Point\") # there are 20 points in test dataset\n",
    "    plt.legend()"
   ]
  },
  {
   "cell_type": "code",
   "execution_count": 187,
   "id": "244861b0",
   "metadata": {},
   "outputs": [
    {
     "name": "stdout",
     "output_type": "stream",
     "text": [
      "Final Model Weights\n",
      "OrderedDict({'W': tensor([[ 0.2073],\n",
      "        [ 0.2117],\n",
      "        [ 0.0309],\n",
      "        [ 0.5294],\n",
      "        [-0.1229]]), 'b': tensor([[0.0006]])})\n"
     ]
    }
   ],
   "source": [
    "print('Final Model Weights')\n",
    "print(model.state_dict())"
   ]
  },
  {
   "cell_type": "markdown",
   "id": "c9aa8f49",
   "metadata": {},
   "source": [
    "# [2] Logistic Regression"
   ]
  },
  {
   "cell_type": "markdown",
   "id": "d1b2c5c4",
   "metadata": {},
   "source": [
    "## Loading Dataset"
   ]
  },
  {
   "cell_type": "code",
   "execution_count": 188,
   "id": "ad17a6c0",
   "metadata": {},
   "outputs": [],
   "source": [
    "from torch.utils.data import Dataset, DataLoader,random_split\n",
    "import numpy as np\n",
    "\n",
    "class BreastDataset(Dataset):\n",
    "    \n",
    "    def __init__(self, csv):\n",
    "        # Load raw data as strings first (to handle 'M'/'B')\n",
    "        raw_data = np.loadtxt(csv, delimiter=\",\", skiprows=1, dtype=str)\n",
    "        \n",
    "        # Extract target column (index 1) and map M->1, B->0\n",
    "        target_str = raw_data[:, 1]\n",
    "        target_num = np.where(target_str == 'M', 1.0, 0.0).astype(np.float32)\n",
    "        \n",
    "        # Remove target column from features\n",
    "        features_str = np.delete(raw_data, 1, axis=1).astype(np.float32)\n",
    "        \n",
    "        # Convert to tensors\n",
    "        X = tt.tensor(features_str, dtype=tt.float32)\n",
    "        Y = tt.tensor(target_num, dtype=tt.float32).unsqueeze(1)  # shape [N,1]\n",
    "        \n",
    "        # Normalize features only\n",
    "        dm, dv = tt.mean(X, dim=0), tt.var(X, dim=0)\n",
    "        X = (X - dm) / (dv ** 0.5)\n",
    "        \n",
    "        self.X = X\n",
    "        self.Y = Y\n",
    "        self.L = len(X)\n",
    "        \n",
    "    def __len__(self):\n",
    "        return self.L\n",
    "    \n",
    "    def __getitem__(self, index):\n",
    "        return self.X[index], self.Y[index]"
   ]
  },
  {
   "cell_type": "code",
   "execution_count": 189,
   "id": "ee124d26",
   "metadata": {},
   "outputs": [],
   "source": [
    "ds = BreastDataset('https://archive.ics.uci.edu/ml/machine-learning-databases/breast-cancer-wisconsin/wdbc.data')\n",
    "# import pandas as pd\n",
    "# df = pd.read_csv(\"https://archive.ics.uci.edu/ml/machine-learning-databases/breast-cancer-wisconsin/wdbc.data\")\n",
    "# df.head()"
   ]
  },
  {
   "cell_type": "markdown",
   "id": "098484bd",
   "metadata": {},
   "source": [
    "**Train Test split**"
   ]
  },
  {
   "cell_type": "code",
   "execution_count": 199,
   "id": "513815cf",
   "metadata": {},
   "outputs": [
    {
     "name": "stdout",
     "output_type": "stream",
     "text": [
      "(tensor([-0.2364,  1.8305, -0.3580,  1.6876,  1.9087, -0.8245, -0.4851, -0.0193,\n",
      "         0.5548,  0.0053, -0.8671,  0.5055, -0.8759,  0.2698,  0.7496, -0.6047,\n",
      "        -0.6904, -0.4389,  0.2610, -0.8029, -0.0977,  1.8118, -0.3715,  1.5437,\n",
      "         1.8974, -0.3732, -0.4277, -0.1433,  1.0943, -0.2402,  0.2850]), tensor([1.]))\n"
     ]
    }
   ],
   "source": [
    "# Define split sizes\n",
    "train_size = int(0.8 * len(ds))\n",
    "test_size = len(ds) - train_size\n",
    "\n",
    "# Split the dataset\n",
    "ds_train, ds_test = random_split(ds, [train_size, test_size])\n",
    "\n",
    "# Create DataLoaders\n",
    "dl_train = DataLoader(ds_train, batch_size=30, shuffle=True)\n",
    "dl_test = DataLoader(ds_test, batch_size=len(ds_test), shuffle=False)\n",
    "\n",
    "print(ds[0])\n"
   ]
  },
  {
   "cell_type": "markdown",
   "id": "4ecab247",
   "metadata": {},
   "source": [
    "*reading sample data*"
   ]
  },
  {
   "cell_type": "code",
   "execution_count": 191,
   "id": "5472f087",
   "metadata": {},
   "outputs": [
    {
     "name": "stdout",
     "output_type": "stream",
     "text": [
      "tensor([-0.2424, -1.8052,  1.2206, -1.8115, -1.3448, -3.1106, -1.1540, -1.1152,\n",
      "        -1.2623, -0.8183, -0.5586, -0.0661,  0.3815, -0.1533, -0.4635,  0.0489,\n",
      "        -1.1609, -1.0549, -1.9097,  0.7544, -0.3808, -1.4095,  0.7617, -1.4329,\n",
      "        -1.0742, -1.8562, -1.2081, -1.3049, -1.7461, -0.0435, -0.7490]) torch.Size([31])\n",
      "tensor([0.]) torch.Size([1])\n"
     ]
    }
   ],
   "source": [
    "x,y = ds_test[2]\n",
    "print(x, x.shape)\n",
    "print(y, y.shape)"
   ]
  },
  {
   "cell_type": "markdown",
   "id": "ee850e50",
   "metadata": {},
   "source": [
    "### Making the Model"
   ]
  },
  {
   "cell_type": "code",
   "execution_count": 192,
   "id": "813367c7",
   "metadata": {},
   "outputs": [],
   "source": [
    "# the logistic regression model will basically take \n",
    "# y = w1*x1 + w2*x2 + ...... + b as input and returns the sigmoid of this as output \n",
    "# then we use 0.5 > as 0 and 0.5 < as 1\n",
    "\n",
    "# we use sigmoid as activation here\n",
    "\n",
    "\n",
    "class LogisticRegression(nn.Module):\n",
    "    \n",
    "    def __init__(self):\n",
    "        super().__init__()\n",
    "        self.W = nn.Parameter(tt.rand(size=(31, 1)))\n",
    "        self.b = nn.Parameter(tt.rand(size=(1,1)))\n",
    "    \n",
    "    def forward(self, X):\n",
    "        return tt.sigmoid(X@self.W + self.b)\n"
   ]
  },
  {
   "cell_type": "code",
   "execution_count": 193,
   "id": "f3ccf292",
   "metadata": {},
   "outputs": [
    {
     "name": "stdout",
     "output_type": "stream",
     "text": [
      "OrderedDict({'W': tensor([[ 0.2073],\n",
      "        [ 0.2117],\n",
      "        [ 0.0309],\n",
      "        [ 0.5294],\n",
      "        [-0.1229]]), 'b': tensor([[0.0006]])})\n"
     ]
    }
   ],
   "source": [
    "logistic_model = LogisticRegression()\n",
    "print(model.state_dict()) # prints the learnable parameters"
   ]
  },
  {
   "cell_type": "code",
   "execution_count": 194,
   "id": "cb1ff891",
   "metadata": {},
   "outputs": [],
   "source": [
    "# for binary classification we use binary cross-entropy loss function\n",
    "loss_fn = nn.BCELoss()\n",
    "\n",
    "# Stohcastic Gradient Descent (SGD)\n",
    "optimizer = oo.SGD(\n",
    "    logistic_model.parameters(),\n",
    "    lr = 0.01\n",
    ")"
   ]
  },
  {
   "cell_type": "code",
   "execution_count": 195,
   "id": "6e04b494",
   "metadata": {},
   "outputs": [
    {
     "name": "stdout",
     "output_type": "stream",
     "text": [
      "epoch 20/1000: train_loss=0.1634, val_loss=0.1911, val_acc=0.8947\n",
      "epoch 40/1000: train_loss=0.1097, val_loss=0.1215, val_acc=0.9386\n",
      "epoch 60/1000: train_loss=0.0972, val_loss=0.1067, val_acc=0.9474\n",
      "epoch 80/1000: train_loss=0.0926, val_loss=0.1005, val_acc=0.9561\n",
      "epoch 100/1000: train_loss=0.0831, val_loss=0.0968, val_acc=0.9561\n",
      "epoch 120/1000: train_loss=0.0847, val_loss=0.0940, val_acc=0.9561\n",
      "epoch 140/1000: train_loss=0.0772, val_loss=0.0917, val_acc=0.9649\n",
      "epoch 160/1000: train_loss=0.0766, val_loss=0.0902, val_acc=0.9561\n",
      "epoch 180/1000: train_loss=0.0736, val_loss=0.0886, val_acc=0.9561\n",
      "epoch 200/1000: train_loss=0.0827, val_loss=0.0872, val_acc=0.9649\n",
      "epoch 220/1000: train_loss=0.0699, val_loss=0.0857, val_acc=0.9649\n",
      "epoch 240/1000: train_loss=0.0767, val_loss=0.0846, val_acc=0.9649\n",
      "epoch 260/1000: train_loss=0.0714, val_loss=0.0833, val_acc=0.9649\n",
      "epoch 280/1000: train_loss=0.0672, val_loss=0.0823, val_acc=0.9649\n",
      "epoch 300/1000: train_loss=0.0796, val_loss=0.0818, val_acc=0.9649\n",
      "epoch 320/1000: train_loss=0.0644, val_loss=0.0812, val_acc=0.9649\n",
      "epoch 340/1000: train_loss=0.0636, val_loss=0.0805, val_acc=0.9649\n",
      "epoch 360/1000: train_loss=0.0693, val_loss=0.0794, val_acc=0.9649\n",
      "epoch 380/1000: train_loss=0.0623, val_loss=0.0788, val_acc=0.9649\n",
      "epoch 400/1000: train_loss=0.0615, val_loss=0.0783, val_acc=0.9649\n",
      "epoch 420/1000: train_loss=0.0609, val_loss=0.0777, val_acc=0.9649\n",
      "epoch 440/1000: train_loss=0.0603, val_loss=0.0776, val_acc=0.9649\n",
      "epoch 460/1000: train_loss=0.0610, val_loss=0.0771, val_acc=0.9649\n",
      "epoch 480/1000: train_loss=0.0602, val_loss=0.0768, val_acc=0.9649\n",
      "epoch 500/1000: train_loss=0.0593, val_loss=0.0763, val_acc=0.9649\n",
      "epoch 520/1000: train_loss=0.0585, val_loss=0.0763, val_acc=0.9649\n",
      "epoch 540/1000: train_loss=0.0592, val_loss=0.0761, val_acc=0.9649\n",
      "epoch 560/1000: train_loss=0.0585, val_loss=0.0762, val_acc=0.9649\n",
      "epoch 580/1000: train_loss=0.0654, val_loss=0.0762, val_acc=0.9649\n",
      "epoch 600/1000: train_loss=0.0624, val_loss=0.0756, val_acc=0.9649\n",
      "epoch 620/1000: train_loss=0.0571, val_loss=0.0750, val_acc=0.9737\n",
      "epoch 640/1000: train_loss=0.0566, val_loss=0.0747, val_acc=0.9737\n",
      "epoch 660/1000: train_loss=0.0680, val_loss=0.0744, val_acc=0.9737\n",
      "epoch 680/1000: train_loss=0.0587, val_loss=0.0745, val_acc=0.9737\n",
      "epoch 700/1000: train_loss=0.0556, val_loss=0.0746, val_acc=0.9737\n",
      "epoch 720/1000: train_loss=0.0553, val_loss=0.0750, val_acc=0.9737\n",
      "epoch 740/1000: train_loss=0.0554, val_loss=0.0744, val_acc=0.9737\n",
      "epoch 760/1000: train_loss=0.0551, val_loss=0.0741, val_acc=0.9737\n",
      "epoch 780/1000: train_loss=0.0544, val_loss=0.0742, val_acc=0.9737\n",
      "epoch 800/1000: train_loss=0.0540, val_loss=0.0740, val_acc=0.9737\n",
      "epoch 820/1000: train_loss=0.0544, val_loss=0.0737, val_acc=0.9737\n",
      "epoch 840/1000: train_loss=0.0541, val_loss=0.0742, val_acc=0.9737\n",
      "epoch 860/1000: train_loss=0.0535, val_loss=0.0739, val_acc=0.9737\n",
      "epoch 880/1000: train_loss=0.0537, val_loss=0.0735, val_acc=0.9737\n",
      "epoch 900/1000: train_loss=0.0530, val_loss=0.0735, val_acc=0.9737\n",
      "epoch 920/1000: train_loss=0.0532, val_loss=0.0732, val_acc=0.9737\n",
      "epoch 940/1000: train_loss=0.0526, val_loss=0.0737, val_acc=0.9737\n",
      "epoch 960/1000: train_loss=0.0562, val_loss=0.0733, val_acc=0.9825\n",
      "epoch 980/1000: train_loss=0.0634, val_loss=0.0733, val_acc=0.9825\n",
      "epoch 1000/1000: train_loss=0.0613, val_loss=0.0733, val_acc=0.9825\n"
     ]
    },
    {
     "data": {
      "image/png": "[encoded data removed]",
      "text/plain": [
       "<Figure size 640x480 with 1 Axes>"
      ]
     },
     "metadata": {},
     "output_type": "display_data"
    }
   ],
   "source": [
    "logistic_loss_history=[]\n",
    "logistic_val_loss_history=[]\n",
    "\n",
    "# Training loop\n",
    "max_epoch = 1000\n",
    "for epoch in range(max_epoch):\n",
    "    logistic_batch_loss_history = []\n",
    "    \n",
    "    for batch, (x,y) in enumerate(dl_train):\n",
    "        optimizer.zero_grad()\n",
    "        # print(x.shape)# clears the previous gradient accumulated by autograd\n",
    "        y_pred = logistic_model(x)\n",
    "        loss = loss_fn(y_pred, y)\n",
    "        loss.backward()\n",
    "        optimizer.step()\n",
    "        \n",
    "        logistic_batch_loss_history.append(loss.item())\n",
    "    \n",
    "    logistic_loss_history.append(sum(logistic_batch_loss_history)/len(logistic_batch_loss_history))\n",
    "    \n",
    "    \n",
    "    # testing\n",
    "    with tt.no_grad():\n",
    "        for batch, (x,y) in enumerate(dl_test):\n",
    "            y_pred = logistic_model(x)\n",
    "            loss = loss_fn(y_pred, y)\n",
    "            logistic_val_loss_history.append(loss.item())\n",
    "          \n",
    "    # Accuracy Calc\n",
    "    with tt.no_grad():\n",
    "        correct = 0\n",
    "        total = 0\n",
    "        for x, y in dl_test:\n",
    "            preds = (logistic_model(x) > 0.5).float()\n",
    "            correct += (preds == y).sum().item()\n",
    "            total += y.size(0)\n",
    "        acc = correct / total\n",
    "        \n",
    "      \n",
    "    if (epoch + 1) % 20 == 0:\n",
    "        print(f\"epoch {epoch+1}/{max_epoch}: \"\n",
    "              f\"train_loss={logistic_loss_history[-1]:.4f}, \"\n",
    "              f\"val_loss={logistic_val_loss_history[-1]:.4f}, \"\n",
    "              f\"val_acc={acc:.4f}\")   \n",
    "        \n",
    "        \n",
    "\n",
    "\n",
    "\n",
    "plt.scatter(range(len(logistic_loss_history)), logistic_loss_history, label='Training Loss', alpha=0.6)\n",
    "plt.scatter(range(len(logistic_val_loss_history)), logistic_val_loss_history, label='Validation Loss', alpha=0.6)\n",
    "plt.legend()\n",
    "plt.show()\n",
    "\n",
    "\n",
    "        \n",
    "        "
   ]
  },
  {
   "cell_type": "markdown",
   "id": "3ca1cbfc",
   "metadata": {},
   "source": [
    "## Confusion Matrix and Accuracy, Precision and Recall"
   ]
  },
  {
   "cell_type": "code",
   "execution_count": 196,
   "id": "4ac18e34",
   "metadata": {},
   "outputs": [],
   "source": [
    "from sklearn.metrics import confusion_matrix, ConfusionMatrixDisplay, accuracy_score, precision_score, recall_score\n",
    "import numpy as np\n",
    "\n",
    "y_true_list = []\n",
    "y_pred_list = []\n",
    "\n",
    "# Put model in evaluation mode & disable gradient tracking\n",
    "logistic_model.eval()\n",
    "with tt.no_grad():\n",
    "    for x, y in dl_test:\n",
    "        probs = logistic_model(x)\n",
    "        preds = (probs > 0.5).float()  # Threshold at 0.5\n",
    "        y_true_list.extend(y.cpu().numpy())\n",
    "        y_pred_list.extend(preds.cpu().numpy())\n",
    "\n",
    "# Convert to numpy arrays\n",
    "y_true = np.array(y_true_list)\n",
    "y_pred = np.array(y_pred_list)\n"
   ]
  },
  {
   "cell_type": "markdown",
   "id": "ff6bd005",
   "metadata": {},
   "source": [
    "#### Confusion Matrix"
   ]
  },
  {
   "cell_type": "code",
   "execution_count": 197,
   "id": "9e6ccb8a",
   "metadata": {},
   "outputs": [
    {
     "data": {
      "image/png": "[encoded data removed]",
      "text/plain": [
       "<Figure size 640x480 with 2 Axes>"
      ]
     },
     "metadata": {},
     "output_type": "display_data"
    }
   ],
   "source": [
    "cm = confusion_matrix(y_true, y_pred)\n",
    "disp = ConfusionMatrixDisplay(confusion_matrix=cm)\n",
    "\n",
    "disp.plot(cmap=plt.cm.Blues)\n",
    "plt.title(\"Confusion Matrix\")\n",
    "plt.show()\n",
    "\n"
   ]
  },
  {
   "cell_type": "markdown",
   "id": "365db5fd",
   "metadata": {},
   "source": [
    "#### Accuray, Precision and recall"
   ]
  },
  {
   "cell_type": "code",
   "execution_count": 198,
   "id": "e1f5b575",
   "metadata": {},
   "outputs": [
    {
     "name": "stdout",
     "output_type": "stream",
     "text": [
      "Accuracy:  0.9825\n",
      "Precision: 0.9787\n",
      "Recall:    0.9787\n"
     ]
    }
   ],
   "source": [
    "acc = accuracy_score(y_true, y_pred)\n",
    "prec = precision_score(y_true, y_pred)\n",
    "rec = recall_score(y_true, y_pred)\n",
    "\n",
    "print(f\"Accuracy:  {acc:.4f}\")\n",
    "print(f\"Precision: {prec:.4f}\")\n",
    "print(f\"Recall:    {rec:.4f}\")"
   ]
  }
 ],
 "metadata": {
  "kernelspec": {
   "display_name": "DataScience",
   "language": "python",
   "name": "python3"
  },
  "language_info": {
   "codemirror_mode": {
    "name": "ipython",
    "version": 3
   },
   "file_extension": ".py",
   "mimetype": "text/x-python",
   "name": "python",
   "nbconvert_exporter": "python",
   "pygments_lexer": "ipython3",
   "version": "3.12.11"
  }
 },
 "nbformat": 4,
 "nbformat_minor": 5
}
