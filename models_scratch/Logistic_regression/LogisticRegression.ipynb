{
 "cells": [
  {
   "cell_type": "markdown",
   "id": "e271e825-7aea-449f-9cfd-5e1aea094cb5",
   "metadata": {},
   "source": [
    "# Logistic Regression"
   ]
  },
  {
   "cell_type": "markdown",
   "id": "5cec2a88-a49e-43ad-9ef3-9f0b98107164",
   "metadata": {},
   "source": [
    "### It predicts whether something is true or false, instead of something continious"
   ]
  },
  {
   "cell_type": "markdown",
   "id": "eb3d9eb7-8249-41c0-8773-03fe3debac34",
   "metadata": {},
   "source": [
    "**Although logistic regression tells the probability that a mouse is obese or not, its usually used for classifications**"
   ]
  },
  {
   "cell_type": "markdown",
   "id": "77198f12-dd3e-4a6b-bb8c-f76598d1687e",
   "metadata": {},
   "source": [
    "If probability of something is > 50% then it will be considered as True, else False"
   ]
  },
  {
   "cell_type": "markdown",
   "id": "081de25d-2060-4242-8123-0e7a4575ef1f",
   "metadata": {},
   "source": [
    "eg: Obesity is predicted by weight"
   ]
  },
  {
   "cell_type": "markdown",
   "id": "0e0bffe3-73c1-4702-bd0c-7ce095444f10",
   "metadata": {},
   "source": [
    "it can also be used to asses what variables are useful for classify samples."
   ]
  },
  {
   "cell_type": "markdown",
   "id": "cc6576e4-c959-497f-aa52-080f723d8029",
   "metadata": {},
   "source": [
    "we can do logistic regression on continious(like weights) and discrete variable(gender), for continious variables it is related to linear regression "
   ]
  },
  {
   "cell_type": "markdown",
   "id": "59f81d7c-6828-4783-ba81-dcd9b78d6b7a",
   "metadata": {},
   "source": [
    "**The curve that fits for logistic regression is the similar to sigmoid function curve (1/(1+e^x)) and for best fitting we minimize the cost function for this**"
   ]
  },
  {
   "cell_type": "markdown",
   "id": "6e85cf58-c522-4c3a-94e5-dbb8e8ebb4ba",
   "metadata": {},
   "source": [
    "while for the linear regression the cost function was just mean square error, but that will suit for continious variable but here our output can only be binary"
   ]
  },
  {
   "cell_type": "markdown",
   "id": "8aef3be4-7b1b-4bfe-b89a-e8358b9642bf",
   "metadata": {},
   "source": [
    "While linear regression uses mean square error as its cost function—appropriate for continuous variables, logistic regression handles binary outputs so has a different cost function.\n",
    "\n",
    "First see if it has the same cost function as linear regression then by gradient descent we will not be sure to reach global minima while minimizing it instead might stuck at local minima.\n",
    "\n",
    "**Cost = -1/m[sum(ylog(y’) + (1-y)log(1-y’))]**\n",
    "\n",
    "where y’ = sigmoid(w.T * X + b)\n",
    "\n",
    "now to get the best fit for the curve we will minimize the cost function and use gradient descent in which\n",
    "\n",
    "w = w - (learning rate)*(d(cost)/dw)\n",
    "\n",
    "b = b - (learning rate)*(d(cost)/db)\n",
    "\n",
    "the derivatives to minimize will be \n",
    "\n",
    "d(cost)/dw = -W/m * sum(y - y’)\n",
    "\n",
    "d(cost)/db = -1/m * sum(y - y’)\n",
    "\n",
    "then we would have our best fitting curve and the model ready"
   ]
  },
  {
   "cell_type": "code",
   "execution_count": 1,
   "id": "c6c3469f-ae8d-4ab6-804a-557c23ca6221",
   "metadata": {},
   "outputs": [],
   "source": [
    "## Implementing Logistic Regression"
   ]
  },
  {
   "cell_type": "code",
   "execution_count": 2,
   "id": "e1cef53c-70d5-4b98-af80-0a35680c908f",
   "metadata": {},
   "outputs": [],
   "source": [
    "import numpy as np"
   ]
  },
  {
   "cell_type": "code",
   "execution_count": 3,
   "id": "ab21553d-6df5-43fb-8ed8-d13f646d5b14",
   "metadata": {},
   "outputs": [],
   "source": [
    "def sigmoid(x):\n",
    "        return 1/(1 + np.exp(-x))"
   ]
  },
  {
   "cell_type": "code",
   "execution_count": 4,
   "id": "14c99a28-b184-4f5b-8694-175bc26032e4",
   "metadata": {},
   "outputs": [],
   "source": [
    "class LogisticRegression:\n",
    "\n",
    "    def __init__(self, lr = 0.01, n_iters = 1000):\n",
    "        self.lr = lr\n",
    "        self.n_iters = n_iters\n",
    "        self.weights = None\n",
    "        self.bias = None\n",
    "\n",
    "\n",
    "    def fit(self, X, y):\n",
    "        n_samples, n_features = X.shape\n",
    "        self.weights = np.zeros(n_features)\n",
    "        self.bias = 0\n",
    "\n",
    "        for _ in range(self.n_iters):\n",
    "            y_line = np.dot(X, self.weights) + self.bias\n",
    "\n",
    "            y_pred = sigmoid(y_line)\n",
    "    \n",
    "            dw = 1/n_samples * np.dot(X.T, (y_pred - y))\n",
    "            db = 1/n_samples * np.sum(y_pred - y)\n",
    "    \n",
    "            self.weights = self.weights - self.lr * dw\n",
    "            self.bias = self.bias - self.lr * db\n",
    "\n",
    "    def predict(self, X):\n",
    "        y_line = np.dot(X, self.weights) + self.bias\n",
    "        y_pred = sigmoid(y_line)\n",
    "\n",
    "        class_pred = [0 if y < 0.5 else 1 for y in y_pred]\n",
    "        return class_pred\n",
    "        \n",
    "        "
   ]
  },
  {
   "cell_type": "code",
   "execution_count": null,
   "id": "0be4cd84-e88b-4dbe-b3c2-1bd9f56f453e",
   "metadata": {},
   "outputs": [],
   "source": []
  },
  {
   "cell_type": "code",
   "execution_count": null,
   "id": "30d044db-aebe-4802-ab81-58632a0947ab",
   "metadata": {},
   "outputs": [],
   "source": []
  }
 ],
 "metadata": {
  "kernelspec": {
   "display_name": "Python 3 (ipykernel)",
   "language": "python",
   "name": "python3"
  },
  "language_info": {
   "codemirror_mode": {
    "name": "ipython",
    "version": 3
   },
   "file_extension": ".py",
   "mimetype": "text/x-python",
   "name": "python",
   "nbconvert_exporter": "python",
   "pygments_lexer": "ipython3",
   "version": "3.12.11"
  }
 },
 "nbformat": 4,
 "nbformat_minor": 5
}
